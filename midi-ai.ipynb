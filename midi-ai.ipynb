{
 "cells": [
  {
   "cell_type": "markdown",
   "id": "71231a3a",
   "metadata": {},
   "source": [
    "# midiAI\n",
    "\n",
    "In this notebook, I'll go through my process of using `music21` to create lists of information about songs generated from the `.midi` files in `data/` generated from the [*OpenBook*](https://veltzer.github.io/openbook/) repository.\n",
    "\n",
    "Let's begin by importing our libraries. We're going to be using `midi2audio` to playback our generated `.wav`."
   ]
  },
  {
   "cell_type": "code",
   "execution_count": 4,
   "id": "803fd92b",
   "metadata": {},
   "outputs": [],
   "source": [
    "from IPython.display import Audio\n",
    "from midi2audio import FluidSynth\n",
    "from music21 import converter, harmony, pitch, chord, key, interval, note, stream, meter\n",
    "from pathlib import Path\n",
    "from pprint import pprint\n",
    "\n",
    "import subprocess"
   ]
  },
  {
   "cell_type": "markdown",
   "id": "e4b6293c",
   "metadata": {},
   "source": [
    "## `.midi` file playback\n",
    "\n",
    "Let's get our playback system running by defining our `FluidSynth` using the `gm-soundfont.sf2` from the project."
   ]
  },
  {
   "cell_type": "code",
   "execution_count": 5,
   "id": "b12efc40",
   "metadata": {},
   "outputs": [],
   "source": [
    "fs = FluidSynth(sound_font=\"assets/gm-soundfont.sf2\")"
   ]
  },
  {
   "cell_type": "markdown",
   "id": "107ef8eb",
   "metadata": {},
   "source": [
    "Let's make it easier to create `.wav` files for playback with this quick `.midi` to `.wav` function that creates the `.wav` file and `return`s the output filename."
   ]
  },
  {
   "cell_type": "markdown",
   "id": "d5f4a958",
   "metadata": {},
   "source": [
    "We're also going to need to hide the wildly long fluidsynth warning outputs, so we'll do that here."
   ]
  },
  {
   "cell_type": "code",
   "execution_count": 6,
   "id": "d061f733",
   "metadata": {},
   "outputs": [],
   "source": [
    "def play_midi(mid_path):\n",
    "\toutput_dir = Path(\"out\")\n",
    "\toutput_dir.mkdir(exist_ok=True)\n",
    "\toutput_name = output_dir / Path(mid_path).with_suffix(\".wav\").name\n",
    "\t\n",
    "\t# fs.midi_to_audio(mid_path, output_name)\n",
    "\tsubprocess.run(\n",
    "\t\t[\"fluidsynth\", \"-ni\", \"gm-soundfont.sf2\", str(mid_path), \"-F\", str(output_name), \"-r 22050\", \"-q\"],\n",
    "\t\tstdout=subprocess.DEVNULL,\n",
    "\t\tstderr=subprocess.DEVNULL\n",
    "\t)\n",
    "\n",
    "\treturn output_name"
   ]
  },
  {
   "cell_type": "markdown",
   "id": "9d4feaae",
   "metadata": {},
   "source": [
    "As a test, we're going to work with `solar.midi` from `data/`."
   ]
  },
  {
   "cell_type": "code",
   "execution_count": 7,
   "id": "42c32502",
   "metadata": {},
   "outputs": [],
   "source": [
    "solar_path = \"data/solar.midi\""
   ]
  },
  {
   "cell_type": "markdown",
   "id": "864ed296",
   "metadata": {},
   "source": [
    "Now we can give our `play_midi` function a go and make sure it's working. If you're following along with this notebook, make sure `fluidsynth` is installed using `brew install fluidsynth` if on a Mac."
   ]
  },
  {
   "cell_type": "code",
   "execution_count": 8,
   "id": "bc8efd57",
   "metadata": {},
   "outputs": [],
   "source": [
    "# Audio(play_midi(solar_path))"
   ]
  },
  {
   "cell_type": "markdown",
   "id": "28a948e3",
   "metadata": {},
   "source": [
    "## `.music21` parsing\n",
    "\n",
    "Let's get into using `music21` to sort through our `.midi` file."
   ]
  },
  {
   "cell_type": "code",
   "execution_count": 9,
   "id": "77e1375f",
   "metadata": {},
   "outputs": [],
   "source": [
    "solar = converter.parse(solar_path)"
   ]
  },
  {
   "cell_type": "markdown",
   "id": "cade8960",
   "metadata": {},
   "source": [
    "We'll inevitably come into problems trying to analyze the `harmony.chordSymbolFromChord` when `music21` can't figure out what the chord symbol should be because there are sharp symbols instead of flat symbols, so let's prepare a couple of `dict`s to replace those notes if we come across them."
   ]
  },
  {
   "cell_type": "code",
   "execution_count": 10,
   "id": "5a397647",
   "metadata": {},
   "outputs": [],
   "source": [
    "note_replacements = {\n",
    "\t\"A#\": \"B-\", \"C#\": \"D-\", \"D#\": \"E-\", \"F#\": \"G-\", \"G#\": \"A-\"\n",
    "}\n",
    "\n",
    "note_replacements_reverse = {\n",
    "\t\"B-\": \"A#\", \"D-\": \"C#\", \"E-\": \"D#\", \"G-\": \"F#\", \"A-\": \"G#\"\n",
    "}"
   ]
  },
  {
   "cell_type": "markdown",
   "id": "836bc817",
   "metadata": {},
   "source": [
    "### `chord_measures`\n",
    "\n",
    "Now let's get into creating lists of chord names and note information from each measure. The chords will always be in the first part of the parsed `.midi` file (index 0) and the notes will always be the second part (index 1).\n",
    "\n",
    "We'll then create empty lists that will hold each measure of chord(s) and note information. You'll notice I had to replace a few sharp notes with flats in order to get the correct chords as well as completely replacing the chord name for a G7b9, which was showing up as G7addG# (essentially the same thing).\n",
    "\n",
    "### `note_measures`\n",
    "\n",
    "The note information will be stored in the `note_measures` list where each note is a list with the note's *name* and *octave* in one string and the length of the note (in terms of `music21`'s `quarterNote`) in the next element of the list."
   ]
  },
  {
   "cell_type": "code",
   "execution_count": 11,
   "id": "f5689132",
   "metadata": {},
   "outputs": [],
   "source": [
    "chords = solar.parts[0]\n",
    "melody = solar.parts[1]\n",
    "\n",
    "chord_measures = []\n",
    "for item in chords:\n",
    "\tmeasure = []\n",
    "\tfor c in item:\n",
    "\t\tif \"chord.Chord\" in str(c):\n",
    "\t\t\tcs = harmony.chordSymbolFromChord(c)\n",
    "\t\t\tif \"Cannot\" in cs.figure:\n",
    "\t\t\t\tpitches = [p for p in c.pitches]\n",
    "\t\t\t\tfor idx, p in enumerate(pitches):\n",
    "\t\t\t\t\tif p.accidental is not None and \"#\" in p.name:\n",
    "\t\t\t\t\t\tpitches[idx] = pitch.Pitch(note_replacements[p.name], octave=p.octave)\n",
    "\t\t\t\tnew_cs = harmony.chordSymbolFromChord(chord.Chord(pitches))\n",
    "\t\t\t\tmeasure.append(new_cs.figure)\n",
    "\t\t\telse:\n",
    "\t\t\t\tif f\"add{cs.figure[0]}#\" in cs.figure:\n",
    "\t\t\t\t\tnc = cs.figure.replace(f\"add{cs.figure[0]}#\", \"b9\")\n",
    "\t\t\t\t\tmeasure.append(nc)\n",
    "\t\t\t\telse:\n",
    "\t\t\t\t\tmeasure.append(cs.figure)\n",
    "\tchord_measures.append(measure)\n",
    "\n",
    "note_measures = []\n",
    "for item in melody:\n",
    "\tmeasure = []\n",
    "\tfor n in item:\n",
    "\t\tif \"note.Note\" in str(n) or \"note.Rest\" in str(n):\n",
    "\t\t\tn_name = n.nameWithOctave if \"note.Note\" in str(n) else \"RS\"\n",
    "\t\t\tn_len = n.quarterLength\n",
    "\t\t\tmeasure.append([n_name, n_len])\n",
    "\tnote_measures.append(measure)"
   ]
  },
  {
   "cell_type": "markdown",
   "id": "e27aa52a",
   "metadata": {},
   "source": [
    "Let's take a look at measure one of `chord_measures` and `note_measures`."
   ]
  },
  {
   "cell_type": "code",
   "execution_count": 12,
   "id": "b2b2d1a3",
   "metadata": {},
   "outputs": [
    {
     "name": "stdout",
     "output_type": "stream",
     "text": [
      "['Cm']\n",
      "[['RS', 0.5], ['C5', 1.5], ['B4', 1.0], ['D5', 0.5], ['C5', 0.5]]\n"
     ]
    }
   ],
   "source": [
    "print(chord_measures[0])\n",
    "print(note_measures[0])"
   ]
  },
  {
   "cell_type": "markdown",
   "id": "afbb737d",
   "metadata": {},
   "source": [
    "## Sidestep, transposing\n",
    "\n",
    "Let's say we have a song in the key of Eb major. For training purposes, I want to only train and generate songs in C major. Can we transpose using `music21`?"
   ]
  },
  {
   "cell_type": "code",
   "execution_count": 13,
   "id": "23be7291",
   "metadata": {},
   "outputs": [],
   "source": [
    "misty_path = \"data/misty.midi\""
   ]
  },
  {
   "cell_type": "code",
   "execution_count": 14,
   "id": "a92e3b7f",
   "metadata": {},
   "outputs": [],
   "source": [
    "# Audio(play_midi(misty_path))"
   ]
  },
  {
   "cell_type": "code",
   "execution_count": 15,
   "id": "2bd3ff7c",
   "metadata": {},
   "outputs": [],
   "source": [
    "misty = converter.parse(misty_path)"
   ]
  },
  {
   "cell_type": "markdown",
   "id": "50f9a43f",
   "metadata": {},
   "source": [
    "Below, I show the route I went with to convert a `.midi` file to C major/A minor. For this purpose, I also exported it as a `.mid` file for playback so you can compare with the previous one."
   ]
  },
  {
   "cell_type": "code",
   "execution_count": 16,
   "id": "0663193e",
   "metadata": {},
   "outputs": [
    {
     "name": "stderr",
     "output_type": "stream",
     "text": [
      "/Users/christopherwright/GitHub Repositories/midi-ai/.venv/lib/python3.13/site-packages/music21/stream/base.py:3675: Music21DeprecationWarning: .flat is deprecated.  Call .flatten() instead\n",
      "  return self.iter().getElementsByClass(classFilterList)\n"
     ]
    }
   ],
   "source": [
    "misty_key = misty.flat.getElementsByClass(key.KeySignature)[0]\n",
    "target_key = key.Key(\"C\") if misty_key.mode == \"major\" else key.Key(\"A\", \"minor\")\n",
    "i = interval.Interval(misty_key.tonic, target_key.tonic)\n",
    "\n",
    "misty_in_c = misty.transpose(i)\n",
    "# misty_in_c.write(\"midi\", fp=\"misty_in_c.mid\")\n",
    "# Audio(play_midi(\"misty_in_c.mid\"))"
   ]
  },
  {
   "cell_type": "markdown",
   "id": "6ec3b028",
   "metadata": {},
   "source": [
    "So now that we know how to make sure we have consistent data for training, we can get back to where we were."
   ]
  },
  {
   "cell_type": "markdown",
   "id": "c6c50db3",
   "metadata": {},
   "source": [
    "## Loops -> functions\n",
    "\n",
    "Let's make functions out of our loops from before, as well as whatever else we can, to make things easier in the future."
   ]
  },
  {
   "cell_type": "code",
   "execution_count": 17,
   "id": "739f799f",
   "metadata": {},
   "outputs": [],
   "source": [
    "def gen_chords(chords_part):\n",
    "\tchord_measures = []\n",
    "\tfor item in chords_part:\n",
    "\t\tmeasure = []\n",
    "\t\tfor c in item:\n",
    "\t\t\tif \"chord.Chord\" in str(c):\n",
    "\t\t\t\tc_name = \",\".join([cn.name for cn in c.pitches])\n",
    "\t\t\t\tc_len = str(c.quarterLength)\n",
    "\t\t\t\tmeasure.append([c_name, c_len])\n",
    "\t\tchord_measures.append(measure)\n",
    "\treturn chord_measures\n",
    "\n",
    "def gen_notes(notes_part):\n",
    "\tnote_measures = []\n",
    "\tfor item in notes_part:\n",
    "\t\tmeasure = []\n",
    "\t\tfor n in item:\n",
    "\t\t\tif \"note.Note\" in str(n) or \"note.Rest\" in str(n):\n",
    "\t\t\t\tn_name = n.nameWithOctave if \"note.Note\" in str(n) else \"RS\"\n",
    "\t\t\t\tn_len = str(n.quarterLength)\n",
    "\t\t\t\tmeasure.append([n_name, n_len])\n",
    "\t\tnote_measures.append(measure)\n",
    "\treturn note_measures\n",
    "\n",
    "def gen_chords_notes(song):\n",
    "\tmeasures = []\n",
    "\tfor measure in zip(song.parts[0], song.parts[1]):\n",
    "\t\tpass\n",
    "\n",
    "def parse_midi_in_c(file_path):\n",
    "\tsong = converter.parse(file_path)\n",
    "\toriginal_key = song.flatten().getElementsByClass(key.KeySignature)[0]\n",
    "\tif original_key.tonic == \"C\" and original_key.mode == \"major\":\n",
    "\t\treturn song\n",
    "\ttarget_key = key.Key(\"C\") if original_key.mode == \"major\" else key.Key(\"A\", \"minor\")\n",
    "\ti = interval.Interval(original_key.tonic, target_key.tonic)\n",
    "\n",
    "\tnew_song = song.transpose(i)\n",
    "\treturn new_song\n",
    "\n",
    "def gen_data(file_path):\n",
    "\tsong = parse_midi_in_c(file_path)\n",
    "\tchords = gen_chords(song.parts[0])\n",
    "\tnotes = gen_notes(song.parts[1])\n",
    "\treturn [chords, notes]"
   ]
  },
  {
   "cell_type": "code",
   "execution_count": 18,
   "id": "bf3338ca",
   "metadata": {},
   "outputs": [
    {
     "name": "stdout",
     "output_type": "stream",
     "text": [
      "[['A4', '1.0'], ['A4', '1.0'], ['A4', '1.0'], ['A4', '0.5'], ['A4', '0.5']]\n"
     ]
    }
   ],
   "source": [
    "strange_fruit = gen_data(\"data/strange_fruit.midi\")\n",
    "print(strange_fruit[1][0])"
   ]
  },
  {
   "cell_type": "markdown",
   "id": "a8f4e8db",
   "metadata": {},
   "source": [
    "I'm going to now import `tqdm` to show our loading process for importing songs."
   ]
  },
  {
   "cell_type": "code",
   "execution_count": 19,
   "id": "01e1310a",
   "metadata": {},
   "outputs": [],
   "source": [
    "from tqdm.notebook import tqdm"
   ]
  },
  {
   "cell_type": "code",
   "execution_count": 20,
   "id": "2959b8d8",
   "metadata": {},
   "outputs": [
    {
     "name": "stdout",
     "output_type": "stream",
     "text": [
      "data/once_i_loved.midi\n"
     ]
    }
   ],
   "source": [
    "data_path = Path(\"data\")\n",
    "files = [f for f in data_path.iterdir() if f.is_file() and f.suffix.lower() == \".midi\"]\n",
    "\n",
    "print(files[150])"
   ]
  },
  {
   "cell_type": "code",
   "execution_count": 21,
   "id": "8a95a018",
   "metadata": {},
   "outputs": [
    {
     "data": {
      "application/vnd.jupyter.widget-view+json": {
       "model_id": "060ab942c2c741398f94b58df4009003",
       "version_major": 2,
       "version_minor": 0
      },
      "text/plain": [
       "  0%|          | 0/153 [00:00<?, ?file/s]"
      ]
     },
     "metadata": {},
     "output_type": "display_data"
    }
   ],
   "source": [
    "data_path = Path(\"data\")\n",
    "files = [f for f in data_path.iterdir() if f.is_file() and f.suffix.lower() == \".midi\"]\n",
    "\n",
    "all_songs = []\n",
    "\n",
    "for fp in tqdm(files, unit=\"file\"):\n",
    "  chords, notes = gen_data(fp)\n",
    "  song = [chords, notes]\n",
    "  all_songs.append(song)"
   ]
  },
  {
   "cell_type": "markdown",
   "id": "7b4fb4c9",
   "metadata": {},
   "source": [
    "## Tokenizing our data\n",
    "\n",
    "So now we have a list `all_songs` where the first index, `all_songs[0]`, `all_songs[1]`, etc. are the different songs and the second index, `all_songs[0][0]`, `all_songs[0][1]`, are the chord info and note info respectively.\n",
    "\n",
    "Now is the tricky part, what is going to be the best way to tokenize this data?\n",
    "\n",
    "First, what I'll need to do is figure out a good way to get my data into some easy-to-understand information for training. I'd really like to train my model on basically *each measure* to get my note probabilities *while being dependent on what the underlying chord is playing behind those notes* so that my model will be able to **generate melodies based on what chord is input**.\n",
    "\n",
    "Looks like I'll have to do some more reading and studying to figure out how to tackle this but I'm really happy with where I am at this point. I've taken my `.midi` files and parsed the notes and chords for each measure and created a list `all_songs` that holds every song in my `data/` directory."
   ]
  },
  {
   "cell_type": "markdown",
   "id": "b6aa478c",
   "metadata": {},
   "source": [
    "### Separating the lists and maintaining the order\n",
    "\n",
    "First, I want to get make sure that each list of melody notes has the same amount of chord lists for each song."
   ]
  },
  {
   "cell_type": "code",
   "execution_count": 22,
   "id": "f1d39f53",
   "metadata": {},
   "outputs": [],
   "source": [
    "for song in all_songs:\n",
    "  chords = song[0]\n",
    "  melody = song[1]"
   ]
  },
  {
   "cell_type": "markdown",
   "id": "eefb6e5b",
   "metadata": {},
   "source": [
    "Perfect, just how I want it. Let's create the chords and melody lists for each song now."
   ]
  },
  {
   "cell_type": "code",
   "execution_count": 23,
   "id": "22bd1ce8",
   "metadata": {},
   "outputs": [
    {
     "name": "stdout",
     "output_type": "stream",
     "text": [
      "32\n",
      "32\n"
     ]
    }
   ],
   "source": [
    "chords = [song[0] for song in all_songs]\n",
    "melody = [song[1] for song in all_songs]\n",
    "\n",
    "print(len(chords[0]))\n",
    "print(len(melody[0]))"
   ]
  },
  {
   "cell_type": "markdown",
   "id": "276d3a88",
   "metadata": {},
   "source": [
    "Well, I'm having trouble with leading measures in songs and creating problems with offsets. So let's just train using note data by measure."
   ]
  },
  {
   "cell_type": "markdown",
   "id": "69a650e0",
   "metadata": {},
   "source": [
    "Now we need to normalize the data, which we'll do manually for educational purposes."
   ]
  },
  {
   "cell_type": "code",
   "execution_count": 47,
   "id": "d1504ff5",
   "metadata": {},
   "outputs": [],
   "source": [
    "def parse(fp):\n",
    "  s = converter.parse(fp)\n",
    "  print(s.flatten().getElementsByClass(key.KeySignature))\n",
    "  o_key = s.flatten().getElementsByClass(key.KeySignature)[0]\n",
    "  if (o_key.tonic == \"C\" and o_key.mode == \"major\") or (o_key.tonic == \"A\" and o_key.mode == \"minor\"):\n",
    "    return s\n",
    "  t_key = key.Key(\"C\") if o_key.mode == \"major\" else key.Key(\"A\", \"minor\")\n",
    "  i = interval.Interval(o_key.tonic, t_key.tonic)\n",
    "  ns = song.transpose(i)\n",
    "  return ns\n",
    "\n",
    "def gen_notes(s):\n",
    "  note_measures = []\n",
    "  for item in s.parts[1]:\n",
    "    measure = []\n",
    "    for n in item:\n",
    "      if isinstance(n, note.Note):\n",
    "        measure.append(n.pitch.midi)\n",
    "      elif isinstance(n, note.Rest):\n",
    "        measure.append(-1)\n",
    "    note_measures.append(measure)\n",
    "  return note_measures"
   ]
  },
  {
   "cell_type": "code",
   "execution_count": 48,
   "id": "07e53c6f",
   "metadata": {},
   "outputs": [
    {
     "data": {
      "application/vnd.jupyter.widget-view+json": {
       "model_id": "13107af3f4b04c32a7297c4e26b879ea",
       "version_major": 2,
       "version_minor": 0
      },
      "text/plain": [
       "  0%|          | 0/153 [00:00<?, ?file/s]"
      ]
     },
     "metadata": {},
     "output_type": "display_data"
    },
    {
     "ename": "AttributeError",
     "evalue": "'str' object has no attribute 'KeySignature'",
     "output_type": "error",
     "traceback": [
      "\u001b[31m---------------------------------------------------------------------------\u001b[39m",
      "\u001b[31mAttributeError\u001b[39m                            Traceback (most recent call last)",
      "\u001b[36mCell\u001b[39m\u001b[36m \u001b[39m\u001b[32mIn[48]\u001b[39m\u001b[32m, line 7\u001b[39m\n\u001b[32m      4\u001b[39m songs = []\n\u001b[32m      6\u001b[39m \u001b[38;5;28;01mfor\u001b[39;00m fp \u001b[38;5;129;01min\u001b[39;00m tqdm(files, unit=\u001b[33m\"\u001b[39m\u001b[33mfile\u001b[39m\u001b[33m\"\u001b[39m):\n\u001b[32m----> \u001b[39m\u001b[32m7\u001b[39m   song = \u001b[43mparse\u001b[49m\u001b[43m(\u001b[49m\u001b[43mfp\u001b[49m\u001b[43m)\u001b[49m\n",
      "\u001b[36mCell\u001b[39m\u001b[36m \u001b[39m\u001b[32mIn[47]\u001b[39m\u001b[32m, line 3\u001b[39m, in \u001b[36mparse\u001b[39m\u001b[34m(fp)\u001b[39m\n\u001b[32m      1\u001b[39m \u001b[38;5;28;01mdef\u001b[39;00m\u001b[38;5;250m \u001b[39m\u001b[34mparse\u001b[39m(fp):\n\u001b[32m      2\u001b[39m   s = converter.parse(fp)\n\u001b[32m----> \u001b[39m\u001b[32m3\u001b[39m   \u001b[38;5;28mprint\u001b[39m(s.flatten().getElementsByClass(\u001b[43mkey\u001b[49m\u001b[43m.\u001b[49m\u001b[43mKeySignature\u001b[49m))\n\u001b[32m      4\u001b[39m   o_key = s.flatten().getElementsByClass(key.KeySignature)[\u001b[32m0\u001b[39m]\n\u001b[32m      5\u001b[39m   \u001b[38;5;28;01mif\u001b[39;00m (o_key.tonic == \u001b[33m\"\u001b[39m\u001b[33mC\u001b[39m\u001b[33m\"\u001b[39m \u001b[38;5;129;01mand\u001b[39;00m o_key.mode == \u001b[33m\"\u001b[39m\u001b[33mmajor\u001b[39m\u001b[33m\"\u001b[39m) \u001b[38;5;129;01mor\u001b[39;00m (o_key.tonic == \u001b[33m\"\u001b[39m\u001b[33mA\u001b[39m\u001b[33m\"\u001b[39m \u001b[38;5;129;01mand\u001b[39;00m o_key.mode == \u001b[33m\"\u001b[39m\u001b[33mminor\u001b[39m\u001b[33m\"\u001b[39m):\n",
      "\u001b[31mAttributeError\u001b[39m: 'str' object has no attribute 'KeySignature'"
     ]
    }
   ],
   "source": [
    "data_path = Path(\"data\")\n",
    "files = [f for f in data_path.iterdir() if f.is_file() and f.suffix.lower() == \".midi\"]\n",
    "\n",
    "songs = []\n",
    "\n",
    "for fp in tqdm(files, unit=\"file\"):\n",
    "  song = parse(fp)"
   ]
  },
  {
   "cell_type": "code",
   "execution_count": 35,
   "id": "3f8d43dc",
   "metadata": {},
   "outputs": [
    {
     "name": "stdout",
     "output_type": "stream",
     "text": [
      "[[60, 64, 67, 68, 71, 69, 64, 69], [69], [60, 64, 67, 68, 71, 69, 64, 67], [67], [62, 65, 69, 72, 76, 74, 72, 69], [69, 72, 71, 65, 69], [69, 72, 71, 67, 71], [67, 67, 67, -1], [60, 64, 67, 68, 71, 69, 64, 69], [69], [60, 64, 67, 68, 71, 69, 64, 67], [67], [62, 65, 69, 72, 76, 74, 72, 69], [69, 72, 71, 65, 69], [69, 72, 71, 67, 74], [67, 67, 67, -1], [-1, 76, 76, 76, 76, 76], [76, 74, -1], [-1, 74, 73, 76, 74, 72, 71, 74], [74, 72, 72, -1], [-1, 72, 71, 74, 72, 71, 69, 72], [71, 71, 69, 69], [69, 67, 67, 66, 69], [69, 67, 67, -1], [60, 64, 67, 68, 71, 69, 64, 69], [69], [60, 64, 67, 68, 71, 69, 64, 67], [67], [62, 65, 69, 72, 76, 74, 72, 69], [69, 72, 71, 65, 69], [69, 72, 71, 67, 76], [72, 72, 72, -1]]\n"
     ]
    }
   ],
   "source": [
    "print(songs[0])"
   ]
  }
 ],
 "metadata": {
  "kernelspec": {
   "display_name": ".venv (3.13.5)",
   "language": "python",
   "name": "python3"
  },
  "language_info": {
   "codemirror_mode": {
    "name": "ipython",
    "version": 3
   },
   "file_extension": ".py",
   "mimetype": "text/x-python",
   "name": "python",
   "nbconvert_exporter": "python",
   "pygments_lexer": "ipython3",
   "version": "3.13.5"
  }
 },
 "nbformat": 4,
 "nbformat_minor": 5
}
