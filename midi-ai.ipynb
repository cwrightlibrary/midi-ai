{
 "cells": [
  {
   "cell_type": "markdown",
   "id": "71231a3a",
   "metadata": {},
   "source": [
    "# midiAI\n",
    "\n",
    "In this notebook, I'll go through my process of using `music21` to create lists of information about songs generated from the `.midi` files in `data/` generated from the [*OpenBook*](https://veltzer.github.io/openbook/) repository.\n",
    "\n",
    "Let's begin by importing our libraries. We're going to be using `midi2audio` to playback our generated `.wav`."
   ]
  },
  {
   "cell_type": "code",
   "execution_count": 20,
   "id": "803fd92b",
   "metadata": {},
   "outputs": [],
   "source": [
    "from IPython.display import Audio\n",
    "from midi2audio import FluidSynth\n",
    "from music21 import converter, harmony, pitch, chord, key, interval, note\n",
    "from pathlib import Path\n",
    "from pprint import pprint\n",
    "\n",
    "import subprocess"
   ]
  },
  {
   "cell_type": "markdown",
   "id": "e4b6293c",
   "metadata": {},
   "source": [
    "## `.midi` file playback\n",
    "\n",
    "Let's get our playback system running by defining our `FluidSynth` using the `gm-soundfont.sf2` from the project."
   ]
  },
  {
   "cell_type": "code",
   "execution_count": 21,
   "id": "b12efc40",
   "metadata": {},
   "outputs": [],
   "source": [
    "fs = FluidSynth(sound_font=\"assets/gm-soundfont.sf2\")"
   ]
  },
  {
   "cell_type": "markdown",
   "id": "107ef8eb",
   "metadata": {},
   "source": [
    "Let's make it easier to create `.wav` files for playback with this quick `.midi` to `.wav` function that creates the `.wav` file and `return`s the output filename."
   ]
  },
  {
   "cell_type": "markdown",
   "id": "d5f4a958",
   "metadata": {},
   "source": [
    "We're also going to need to hide the wildly long fluidsynth warning outputs, so we'll do that here."
   ]
  },
  {
   "cell_type": "code",
   "execution_count": 22,
   "id": "d061f733",
   "metadata": {},
   "outputs": [],
   "source": [
    "def play_midi(mid_path):\n",
    "\toutput_dir = Path(\"out\")\n",
    "\toutput_dir.mkdir(exist_ok=True)\n",
    "\toutput_name = output_dir / Path(mid_path).with_suffix(\".wav\").name\n",
    "\t\n",
    "\t# fs.midi_to_audio(mid_path, output_name)\n",
    "\tsubprocess.run(\n",
    "\t\t[\"fluidsynth\", \"-ni\", \"gm-soundfont.sf2\", str(mid_path), \"-F\", str(output_name), \"-r 22050\", \"-q\"],\n",
    "\t\tstdout=subprocess.DEVNULL,\n",
    "\t\tstderr=subprocess.DEVNULL\n",
    "\t)\n",
    "\n",
    "\treturn output_name"
   ]
  },
  {
   "cell_type": "markdown",
   "id": "9d4feaae",
   "metadata": {},
   "source": [
    "As a test, we're going to work with `solar.midi` from `data/`."
   ]
  },
  {
   "cell_type": "code",
   "execution_count": 23,
   "id": "42c32502",
   "metadata": {},
   "outputs": [],
   "source": [
    "solar_path = \"data/solar.midi\""
   ]
  },
  {
   "cell_type": "markdown",
   "id": "864ed296",
   "metadata": {},
   "source": [
    "Now we can give our `play_midi` function a go and make sure it's working. If you're following along with this notebook, make sure `fluidsynth` is installed using `brew install fluidsynth` if on a Mac."
   ]
  },
  {
   "cell_type": "code",
   "execution_count": 24,
   "id": "bc8efd57",
   "metadata": {},
   "outputs": [],
   "source": [
    "# Audio(play_midi(solar_path))"
   ]
  },
  {
   "cell_type": "markdown",
   "id": "28a948e3",
   "metadata": {},
   "source": [
    "## `.music21` parsing\n",
    "\n",
    "Let's get into using `music21` to sort through our `.midi` file."
   ]
  },
  {
   "cell_type": "code",
   "execution_count": 25,
   "id": "77e1375f",
   "metadata": {},
   "outputs": [],
   "source": [
    "solar = converter.parse(solar_path)"
   ]
  },
  {
   "cell_type": "markdown",
   "id": "cade8960",
   "metadata": {},
   "source": [
    "We'll inevitably come into problems trying to analyze the `harmony.chordSymbolFromChord` when `music21` can't figure out what the chord symbol should be because there are sharp symbols instead of flat symbols, so let's prepare a couple of `dict`s to replace those notes if we come across them."
   ]
  },
  {
   "cell_type": "code",
   "execution_count": 26,
   "id": "5a397647",
   "metadata": {},
   "outputs": [],
   "source": [
    "note_replacements = {\n",
    "\t\"A#\": \"B-\", \"C#\": \"D-\", \"D#\": \"E-\", \"F#\": \"G-\", \"G#\": \"A-\"\n",
    "}\n",
    "\n",
    "note_replacements_reverse = {\n",
    "\t\"B-\": \"A#\", \"D-\": \"C#\", \"E-\": \"D#\", \"G-\": \"F#\", \"A-\": \"G#\"\n",
    "}"
   ]
  },
  {
   "cell_type": "markdown",
   "id": "836bc817",
   "metadata": {},
   "source": [
    "### `chord_measures`\n",
    "\n",
    "Now let's get into creating lists of chord names and note information from each measure. The chords will always be in the first part of the parsed `.midi` file (index 0) and the notes will always be the second part (index 1).\n",
    "\n",
    "We'll then create empty lists that will hold each measure of chord(s) and note information. You'll notice I had to replace a few sharp notes with flats in order to get the correct chords as well as completely replacing the chord name for a G7b9, which was showing up as G7addG# (essentially the same thing).\n",
    "\n",
    "### `note_measures`\n",
    "\n",
    "The note information will be stored in the `note_measures` list where each note is a list with the note's *name* and *octave* in one string and the length of the note (in terms of `music21`'s `quarterNote`) in the next element of the list."
   ]
  },
  {
   "cell_type": "code",
   "execution_count": 27,
   "id": "f5689132",
   "metadata": {},
   "outputs": [],
   "source": [
    "chords = solar.parts[0]\n",
    "melody = solar.parts[1]\n",
    "\n",
    "chord_measures = []\n",
    "for item in chords:\n",
    "\tmeasure = []\n",
    "\tfor c in item:\n",
    "\t\tif \"chord.Chord\" in str(c):\n",
    "\t\t\tcs = harmony.chordSymbolFromChord(c)\n",
    "\t\t\tif \"Cannot\" in cs.figure:\n",
    "\t\t\t\tpitches = [p for p in c.pitches]\n",
    "\t\t\t\tfor idx, p in enumerate(pitches):\n",
    "\t\t\t\t\tif p.accidental is not None and \"#\" in p.name:\n",
    "\t\t\t\t\t\tpitches[idx] = pitch.Pitch(note_replacements[p.name], octave=p.octave)\n",
    "\t\t\t\tnew_cs = harmony.chordSymbolFromChord(chord.Chord(pitches))\n",
    "\t\t\t\tmeasure.append(new_cs.figure)\n",
    "\t\t\telse:\n",
    "\t\t\t\tif f\"add{cs.figure[0]}#\" in cs.figure:\n",
    "\t\t\t\t\tnc = cs.figure.replace(f\"add{cs.figure[0]}#\", \"b9\")\n",
    "\t\t\t\t\tmeasure.append(nc)\n",
    "\t\t\t\telse:\n",
    "\t\t\t\t\tmeasure.append(cs.figure)\n",
    "\tchord_measures.append(measure)\n",
    "\n",
    "note_measures = []\n",
    "for item in melody:\n",
    "\tmeasure = []\n",
    "\tfor n in item:\n",
    "\t\tif \"note.Note\" in str(n) or \"note.Rest\" in str(n):\n",
    "\t\t\tn_name = n.nameWithOctave if \"note.Note\" in str(n) else \"RS\"\n",
    "\t\t\tn_len = n.quarterLength\n",
    "\t\t\tmeasure.append([n_name, n_len])\n",
    "\tnote_measures.append(measure)"
   ]
  },
  {
   "cell_type": "markdown",
   "id": "e27aa52a",
   "metadata": {},
   "source": [
    "Let's take a look at measure one of `chord_measures` and `note_measures`."
   ]
  },
  {
   "cell_type": "code",
   "execution_count": 28,
   "id": "b2b2d1a3",
   "metadata": {},
   "outputs": [
    {
     "name": "stdout",
     "output_type": "stream",
     "text": [
      "['Cm']\n",
      "[['RS', 0.5], ['C5', 1.5], ['B4', 1.0], ['D5', 0.5], ['C5', 0.5]]\n"
     ]
    }
   ],
   "source": [
    "print(chord_measures[0])\n",
    "print(note_measures[0])"
   ]
  },
  {
   "cell_type": "markdown",
   "id": "afbb737d",
   "metadata": {},
   "source": [
    "## Sidestep, transposing\n",
    "\n",
    "Let's say we have a song in the key of Eb major. For training purposes, I want to only train and generate songs in C major. Can we transpose using `music21`?"
   ]
  },
  {
   "cell_type": "code",
   "execution_count": 29,
   "id": "23be7291",
   "metadata": {},
   "outputs": [],
   "source": [
    "misty_path = \"data/misty.midi\""
   ]
  },
  {
   "cell_type": "code",
   "execution_count": 30,
   "id": "a92e3b7f",
   "metadata": {},
   "outputs": [],
   "source": [
    "# Audio(play_midi(misty_path))"
   ]
  },
  {
   "cell_type": "code",
   "execution_count": 31,
   "id": "2bd3ff7c",
   "metadata": {},
   "outputs": [],
   "source": [
    "misty = converter.parse(misty_path)"
   ]
  },
  {
   "cell_type": "markdown",
   "id": "50f9a43f",
   "metadata": {},
   "source": [
    "Below, I show the route I went with to convert a `.midi` file to C major/A minor. For this purpose, I also exported it as a `.mid` file for playback so you can compare with the previous one."
   ]
  },
  {
   "cell_type": "code",
   "execution_count": null,
   "id": "0663193e",
   "metadata": {},
   "outputs": [
    {
     "name": "stderr",
     "output_type": "stream",
     "text": [
      "c:\\Users\\circ8\\Documents\\Chris\\GitHub Repositories\\midi-ai\\.venv\\Lib\\site-packages\\music21\\stream\\base.py:3675: Music21DeprecationWarning: .flat is deprecated.  Call .flatten() instead\n",
      "  return self.iter().getElementsByClass(classFilterList)\n"
     ]
    },
    {
     "data": {
      "text/plain": [
       "'misty_in_c.mid'"
      ]
     },
     "execution_count": 32,
     "metadata": {},
     "output_type": "execute_result"
    }
   ],
   "source": [
    "misty_key = misty.flat.getElementsByClass(key.KeySignature)[0]\n",
    "target_key = key.Key(\"C\") if misty_key.mode == \"major\" else key.Key(\"A\", \"minor\")\n",
    "i = interval.Interval(misty_key.tonic, target_key.tonic)\n",
    "\n",
    "misty_in_c = misty.transpose(i)\n",
    "# misty_in_c.write(\"midi\", fp=\"misty_in_c.mid\")\n",
    "# Audio(play_midi(\"misty_in_c.mid\"))"
   ]
  },
  {
   "cell_type": "markdown",
   "id": "6ec3b028",
   "metadata": {},
   "source": [
    "So now that we know how to make sure we have consistent data for training, we can get back to where we were."
   ]
  },
  {
   "cell_type": "markdown",
   "id": "c6c50db3",
   "metadata": {},
   "source": [
    "## Loops -> functions\n",
    "\n",
    "Let's make functions out of our loops from before, as well as whatever else we can, to make things easier in the future."
   ]
  },
  {
   "cell_type": "code",
   "execution_count": null,
   "id": "739f799f",
   "metadata": {},
   "outputs": [],
   "source": [
    "harmony.addNewChordSymbol(\"7alt\", \"1,-3,-5,-7,-9,-11,-13\", [\"alt7\", \"7alt\"])\n",
    "harmony.addNewChordSymbol(\"m6\", \"1,-3,5,6\", [\"m6\", \"(min6)\"])\n",
    "harmony.addNewChordSymbol(\"13\", \"1,3,5,7,9,13\", [\"13\", \"(13)\"])\n",
    "harmony.addNewChordSymbol(\"69\", \"1,3,5,6,9\", [\"69\", \"6/9\"])\n",
    "\n",
    "custom_chords = [\"7alt\", \"m6\", \"13\", \"69\"]\n",
    "\n",
    "def is_custom_chord(input_chord):\n",
    "\troot = input_chord.pitches[0].name\n",
    "\tcustom_idx = [False] * len(custom_chords)\n",
    "\tfor p in [p.name for p in input_chord.pitches]:\n",
    "\t\tfor idx, c_name in enumerate(custom_chords):\n",
    "\t\t\tc_chord = harmony.ChordSymbol(f\"{root}{c_name}\")\n",
    "\t\t\tif p in [c.name for c in c_chord.pitches]:\n",
    "\t\t\t\tcustom_idx[idx] = True\n",
    "\t\t\telse:\n",
    "\t\t\t\tcustom_idx[idx] = False\n",
    "\n",
    "\tif True in custom_idx:\n",
    "\t\treturn True\n",
    "\telse:\n",
    "\t\treturn False\n",
    "\n",
    "def to_custom_chord(input_chord):\n",
    "\troot = input_chord.pitches[0].name\n",
    "\tcustom_idx = [False] * len(custom_chords)\n",
    "\tfor p in [p.name for p in input_chord.pitches]:\n",
    "\t\tfor idx, c_name in enumerate(custom_chords):\n",
    "\t\t\tc_chord = harmony.ChordSymbol(f\"{root}{c_name}\")\n",
    "\t\t\tif p in [c.name for c in c_chord.pitches]:\n",
    "\t\t\t\tcustom_idx[idx] = True\n",
    "\t\t\telse:\n",
    "\t\t\t\tcustom_idx[idx] = False\n",
    "\n",
    "\tif True in custom_idx:\n",
    "\t\tfor idx, c in enumerate(custom_idx):\n",
    "\t\t\tif c:\n",
    "\t\t\t\treturn harmony.ChordSymbol(f\"{root}{custom_chords[idx]}\")\n",
    "\telse:\n",
    "\t\treturn input_chord\n",
    "\n",
    "def gen_chords(chords_part):\n",
    "\tchord_measures = []\n",
    "\tfor item in chords_part:\n",
    "\t\tmeasure = []\n",
    "\t\tfor c in item:\n",
    "\t\t\tif \"chord.Chord\" in str(c):\n",
    "\t\t\t\tif is_custom_chord(c):\n",
    "\t\t\t\t\tnew_cs = to_custom_chord(c)\n",
    "\t\t\t\telse:\n",
    "\t\t\t\t\tcs = harmony.chordSymbolFromChord(c)\n",
    "\t\t\t\t\tif \"Cannot\" in cs.figure:\n",
    "\t\t\t\t\t\tpitches = [p for p in c.pitches]\n",
    "\t\t\t\t\t\tfor idx, p in enumerate(pitches):\n",
    "\t\t\t\t\t\t\tif p.accidental is not None and \"#\" in p.name:\n",
    "\t\t\t\t\t\t\t\tpitches[idx] = pitch.Pitch(note_replacements[p.name], octave=p.octave)\n",
    "\t\t\t\t\t\tprint(pitches)\n",
    "\t\t\t\t\t\tnew_cs = harmony.chordSymbolFromChord(chord.Chord(pitches))\n",
    "\t\t\t\t\t\tmeasure.append(new_cs.figure)\n",
    "\t\t\t\t\telse:\n",
    "\t\t\t\t\t\tif f\"add{cs.figure[0]}#\" in cs.figure:\n",
    "\t\t\t\t\t\t\tnc = cs.figure.replace(f\"add{cs.figure[0]}#\", \"b9\")\n",
    "\t\t\t\t\t\t\tmeasure.append(nc)\n",
    "\t\t\t\t\t\telse:\n",
    "\t\t\t\t\t\t\tmeasure.append(cs.figure)\n",
    "\t\tchord_measures.append(measure)\n",
    "\treturn chord_measures\n",
    "\n",
    "def gen_notes(notes_part):\n",
    "\tnote_measures = []\n",
    "\tfor item in notes_part:\n",
    "\t\tmeasure = []\n",
    "\t\tfor n in item:\n",
    "\t\t\tif \"note.Note\" in str(n) or \"note.Rest\" in str(n):\n",
    "\t\t\t\tn_name = n.nameWithOctave if \"note.Note\" in str(n) else \"RS\"\n",
    "\t\t\t\tn_len = n.quarterLength\n",
    "\t\t\t\tmeasure.append([n_name, n_len])\n",
    "\t\tnote_measures.append(measure)\n",
    "\treturn note_measures\n",
    "\n",
    "def parse_midi_in_c(file_path):\n",
    "\tsong = converter.parse(file_path)\n",
    "\toriginal_key = song.flatten().getElementsByClass(key.KeySignature)[0]\n",
    "\tif original_key.tonic == \"C\" and original_key.mode == \"major\":\n",
    "\t\treturn song\n",
    "\ttarget_key = key.Key(\"C\") if original_key.mode == \"major\" else key.Key(\"A\", \"minor\")\n",
    "\ti = interval.Interval(original_key.tonic, target_key.tonic)\n",
    "\n",
    "\tnew_song = song.transpose(i)\n",
    "\treturn new_song"
   ]
  },
  {
   "cell_type": "markdown",
   "id": "2da3c174",
   "metadata": {},
   "source": [
    "Let's see if this worked."
   ]
  },
  {
   "cell_type": "code",
   "execution_count": 34,
   "id": "12d84682",
   "metadata": {},
   "outputs": [
    {
     "name": "stdout",
     "output_type": "stream",
     "text": [
      "a minor\n"
     ]
    }
   ],
   "source": [
    "test_song = parse_midi_in_c(\"data/caravan.midi\")\n",
    "print(test_song.flatten().getElementsByClass(key.KeySignature)[0])"
   ]
  },
  {
   "cell_type": "markdown",
   "id": "3e34093d",
   "metadata": {},
   "source": [
    "Looks like it's working as it should. The `test_song` I loaded was `\"data/caravan.midi\"` and its original key is in F minor/Ab major and you can see from the second line that the key was successfully converted to A minor/C major.\n",
    "\n",
    "Let's see how it handles our note script."
   ]
  },
  {
   "cell_type": "code",
   "execution_count": 35,
   "id": "6ce1d9ed",
   "metadata": {},
   "outputs": [
    {
     "name": "stdout",
     "output_type": "stream",
     "text": [
      "[['D5', 1.0], ['E5', 1.0], ['G#5', 1.0], ['B4', 1.0]]\n"
     ]
    }
   ],
   "source": [
    "test_notes = gen_notes(test_song.parts[1])\n",
    "pprint(test_notes[3])"
   ]
  },
  {
   "cell_type": "markdown",
   "id": "a8f4e8db",
   "metadata": {},
   "source": [
    "I'm going to now import `tqdm` to show our loading process for importing songs."
   ]
  },
  {
   "cell_type": "code",
   "execution_count": 36,
   "id": "01e1310a",
   "metadata": {},
   "outputs": [],
   "source": [
    "from tqdm.notebook import tqdm"
   ]
  },
  {
   "cell_type": "code",
   "execution_count": 115,
   "id": "8a95a018",
   "metadata": {},
   "outputs": [
    {
     "data": {
      "application/vnd.jupyter.widget-view+json": {
       "model_id": "c5b64ad7917f4ce1a758e96a0b517a9e",
       "version_major": 2,
       "version_minor": 0
      },
      "text/plain": [
       "  0%|          | 0/153 [00:00<?, ?file/s]"
      ]
     },
     "metadata": {},
     "output_type": "display_data"
    },
    {
     "name": "stdout",
     "output_type": "stream",
     "text": [
      "[<music21.pitch.Pitch F4>, <music21.pitch.Pitch A-4>, <music21.pitch.Pitch C5>, <music21.pitch.Pitch E-5>]\n",
      "[<music21.pitch.Pitch F4>, <music21.pitch.Pitch A-4>, <music21.pitch.Pitch C5>, <music21.pitch.Pitch E-5>]\n",
      "[<music21.pitch.Pitch F4>, <music21.pitch.Pitch A-4>, <music21.pitch.Pitch C5>, <music21.pitch.Pitch E-5>]\n",
      "[<music21.pitch.Pitch F4>, <music21.pitch.Pitch A-4>, <music21.pitch.Pitch C5>, <music21.pitch.Pitch E-5>]\n",
      "[<music21.pitch.Pitch F4>, <music21.pitch.Pitch A-4>, <music21.pitch.Pitch C5>, <music21.pitch.Pitch E-5>]\n",
      "[<music21.pitch.Pitch F4>, <music21.pitch.Pitch A-4>, <music21.pitch.Pitch C5>, <music21.pitch.Pitch E-5>]\n",
      "[<music21.pitch.Pitch B-4>, <music21.pitch.Pitch D-5>, <music21.pitch.Pitch F5>, <music21.pitch.Pitch A-5>]\n",
      "[<music21.pitch.Pitch E-4>, <music21.pitch.Pitch G4>, <music21.pitch.Pitch B-4>, <music21.pitch.Pitch D-5>]\n",
      "[<music21.pitch.Pitch E-4>, <music21.pitch.Pitch G4>, <music21.pitch.Pitch B-4>, <music21.pitch.Pitch D-5>]\n",
      "[<music21.pitch.Pitch A-4>, <music21.pitch.Pitch C5>, <music21.pitch.Pitch E-5>, <music21.pitch.Pitch G5>]\n",
      "[<music21.pitch.Pitch A-4>, <music21.pitch.Pitch C5>, <music21.pitch.Pitch E-5>, <music21.pitch.Pitch G5>]\n",
      "[<music21.pitch.Pitch D4>, <music21.pitch.Pitch F4>, <music21.pitch.Pitch A-4>, <music21.pitch.Pitch C5>]\n",
      "[<music21.pitch.Pitch B-4>, <music21.pitch.Pitch D-5>, <music21.pitch.Pitch F5>, <music21.pitch.Pitch A-5>]\n",
      "[<music21.pitch.Pitch E-4>, <music21.pitch.Pitch G4>, <music21.pitch.Pitch B-4>, <music21.pitch.Pitch D-5>]\n",
      "[<music21.pitch.Pitch E-4>, <music21.pitch.Pitch G4>, <music21.pitch.Pitch B-4>, <music21.pitch.Pitch D-5>]\n",
      "[<music21.pitch.Pitch A-4>, <music21.pitch.Pitch C5>, <music21.pitch.Pitch E-5>, <music21.pitch.Pitch G5>]\n",
      "[<music21.pitch.Pitch A-4>, <music21.pitch.Pitch C5>, <music21.pitch.Pitch E-5>, <music21.pitch.Pitch G5>]\n",
      "[<music21.pitch.Pitch D4>, <music21.pitch.Pitch F4>, <music21.pitch.Pitch A-4>, <music21.pitch.Pitch C5>]\n",
      "[<music21.pitch.Pitch G-4>, <music21.pitch.Pitch B-4>, <music21.pitch.Pitch D-5>, <music21.pitch.Pitch E5>]\n",
      "[<music21.pitch.Pitch G-4>, <music21.pitch.Pitch B-4>, <music21.pitch.Pitch D-5>, <music21.pitch.Pitch E5>]\n",
      "[<music21.pitch.Pitch B-4>, <music21.pitch.Pitch D-5>, <music21.pitch.Pitch F5>, <music21.pitch.Pitch A-5>]\n",
      "[<music21.pitch.Pitch E-4>, <music21.pitch.Pitch G4>, <music21.pitch.Pitch B-4>, <music21.pitch.Pitch D-5>]\n",
      "[<music21.pitch.Pitch E-4>, <music21.pitch.Pitch G4>, <music21.pitch.Pitch B-4>, <music21.pitch.Pitch D-5>]\n",
      "[<music21.pitch.Pitch A-4>, <music21.pitch.Pitch C5>, <music21.pitch.Pitch E-5>]\n",
      "[<music21.pitch.Pitch A-4>, <music21.pitch.Pitch C5>, <music21.pitch.Pitch E-5>]\n",
      "[<music21.pitch.Pitch D4>, <music21.pitch.Pitch F4>, <music21.pitch.Pitch A-4>, <music21.pitch.Pitch C5>]\n",
      "[<music21.pitch.Pitch E-4>, <music21.pitch.Pitch G4>, <music21.pitch.Pitch B-4>, <music21.pitch.Pitch D-5>]\n",
      "[<music21.pitch.Pitch E-4>, <music21.pitch.Pitch G4>, <music21.pitch.Pitch B-4>, <music21.pitch.Pitch D-5>]\n",
      "[<music21.pitch.Pitch A-4>, <music21.pitch.Pitch C5>, <music21.pitch.Pitch E-5>, <music21.pitch.Pitch G-5>]\n",
      "[<music21.pitch.Pitch E-4>, <music21.pitch.Pitch G4>, <music21.pitch.Pitch B-4>, <music21.pitch.Pitch D-5>]\n",
      "[<music21.pitch.Pitch E-4>, <music21.pitch.Pitch G-4>, <music21.pitch.Pitch A4>]\n",
      "[<music21.pitch.Pitch B-4>, <music21.pitch.Pitch D5>, <music21.pitch.Pitch F5>, <music21.pitch.Pitch A-5>, <music21.pitch.Pitch C6>]\n",
      "[<music21.pitch.Pitch B-4>, <music21.pitch.Pitch D5>, <music21.pitch.Pitch F5>, <music21.pitch.Pitch A-5>]\n",
      "[<music21.pitch.Pitch B-4>, <music21.pitch.Pitch D5>, <music21.pitch.Pitch F5>, <music21.pitch.Pitch A-5>, <music21.pitch.Pitch C6>]\n",
      "[<music21.pitch.Pitch B-4>, <music21.pitch.Pitch D5>, <music21.pitch.Pitch F5>, <music21.pitch.Pitch A-5>]\n",
      "[<music21.pitch.Pitch B-4>, <music21.pitch.Pitch D-5>, <music21.pitch.Pitch F5>, <music21.pitch.Pitch A-5>]\n",
      "[<music21.pitch.Pitch E-4>, <music21.pitch.Pitch G4>, <music21.pitch.Pitch B-4>, <music21.pitch.Pitch D-5>]\n",
      "[<music21.pitch.Pitch A-4>, <music21.pitch.Pitch C5>, <music21.pitch.Pitch E-5>]\n",
      "[<music21.pitch.Pitch A-4>, <music21.pitch.Pitch C5>, <music21.pitch.Pitch E-5>, <music21.pitch.Pitch F5>]\n",
      "[<music21.pitch.Pitch A-4>, <music21.pitch.Pitch C5>, <music21.pitch.Pitch E-5>]\n",
      "[<music21.pitch.Pitch A-4>, <music21.pitch.Pitch C5>, <music21.pitch.Pitch E-5>, <music21.pitch.Pitch F5>]\n",
      "[<music21.pitch.Pitch E-4>, <music21.pitch.Pitch G4>, <music21.pitch.Pitch B-4>, <music21.pitch.Pitch D-5>]\n",
      "[<music21.pitch.Pitch A-4>, <music21.pitch.Pitch C5>, <music21.pitch.Pitch E-5>]\n",
      "[<music21.pitch.Pitch D-4>, <music21.pitch.Pitch F4>, <music21.pitch.Pitch A-4>]\n",
      "[<music21.pitch.Pitch A-4>, <music21.pitch.Pitch C5>, <music21.pitch.Pitch E-5>]\n",
      "[<music21.pitch.Pitch E-4>, <music21.pitch.Pitch G4>, <music21.pitch.Pitch B-4>, <music21.pitch.Pitch D-5>, <music21.pitch.Pitch F5>]\n",
      "[<music21.pitch.Pitch E-4>, <music21.pitch.Pitch G4>, <music21.pitch.Pitch B-4>, <music21.pitch.Pitch D-5>]\n",
      "[<music21.pitch.Pitch B-4>, <music21.pitch.Pitch D-5>, <music21.pitch.Pitch F5>, <music21.pitch.Pitch A-5>]\n",
      "[<music21.pitch.Pitch E-4>, <music21.pitch.Pitch G4>, <music21.pitch.Pitch B-4>, <music21.pitch.Pitch D-5>]\n",
      "[<music21.pitch.Pitch B-4>, <music21.pitch.Pitch D-5>, <music21.pitch.Pitch F5>, <music21.pitch.Pitch A-5>]\n",
      "[<music21.pitch.Pitch E-4>, <music21.pitch.Pitch G4>, <music21.pitch.Pitch B-4>, <music21.pitch.Pitch D-5>]\n",
      "[<music21.pitch.Pitch B-4>, <music21.pitch.Pitch D-5>, <music21.pitch.Pitch F5>, <music21.pitch.Pitch A-5>]\n",
      "[<music21.pitch.Pitch E-4>, <music21.pitch.Pitch G4>, <music21.pitch.Pitch B-4>, <music21.pitch.Pitch D-5>]\n",
      "[<music21.pitch.Pitch G4>, <music21.pitch.Pitch B-4>, <music21.pitch.Pitch D-5>, <music21.pitch.Pitch F5>]\n",
      "[<music21.pitch.Pitch D-4>, <music21.pitch.Pitch F4>, <music21.pitch.Pitch A-4>, <music21.pitch.Pitch B4>]\n",
      "[<music21.pitch.Pitch B-4>, <music21.pitch.Pitch D5>, <music21.pitch.Pitch F5>, <music21.pitch.Pitch A-5>, <music21.pitch.Pitch C6>]\n",
      "[<music21.pitch.Pitch B-4>, <music21.pitch.Pitch D5>, <music21.pitch.Pitch F5>, <music21.pitch.Pitch A-5>]\n",
      "[<music21.pitch.Pitch D4>, <music21.pitch.Pitch F4>, <music21.pitch.Pitch A-4>, <music21.pitch.Pitch C5>]\n",
      "[<music21.pitch.Pitch B3>, <music21.pitch.Pitch E-4>, <music21.pitch.Pitch G-4>, <music21.pitch.Pitch A4>]\n",
      "[<music21.pitch.Pitch B3>, <music21.pitch.Pitch E-4>, <music21.pitch.Pitch G-4>, <music21.pitch.Pitch B-4>]\n",
      "[<music21.pitch.Pitch B3>, <music21.pitch.Pitch E-4>, <music21.pitch.Pitch G-4>, <music21.pitch.Pitch B-4>]\n",
      "[<music21.pitch.Pitch A-3>, <music21.pitch.Pitch C4>, <music21.pitch.Pitch E-4>, <music21.pitch.Pitch G-4>, <music21.pitch.Pitch B4>]\n",
      "[<music21.pitch.Pitch G-3>, <music21.pitch.Pitch B-3>, <music21.pitch.Pitch D-4>, <music21.pitch.Pitch E4>]\n",
      "[<music21.pitch.Pitch B3>, <music21.pitch.Pitch E-4>, <music21.pitch.Pitch G-4>, <music21.pitch.Pitch B-4>]\n",
      "[<music21.pitch.Pitch E-4>, <music21.pitch.Pitch G4>, <music21.pitch.Pitch B-4>, <music21.pitch.Pitch D-5>]\n",
      "[<music21.pitch.Pitch A-3>, <music21.pitch.Pitch C4>, <music21.pitch.Pitch E-4>, <music21.pitch.Pitch G4>]\n",
      "[<music21.pitch.Pitch F3>, <music21.pitch.Pitch A-3>, <music21.pitch.Pitch C4>, <music21.pitch.Pitch E-4>]\n",
      "[<music21.pitch.Pitch B-3>, <music21.pitch.Pitch D4>, <music21.pitch.Pitch F4>, <music21.pitch.Pitch A-4>, <music21.pitch.Pitch C5>]\n",
      "[<music21.pitch.Pitch B4>, <music21.pitch.Pitch E-5>, <music21.pitch.Pitch G-5>, <music21.pitch.Pitch A5>]\n",
      "[<music21.pitch.Pitch B4>, <music21.pitch.Pitch E-5>, <music21.pitch.Pitch G-5>, <music21.pitch.Pitch A5>]\n",
      "[<music21.pitch.Pitch B4>, <music21.pitch.Pitch E-5>, <music21.pitch.Pitch G-5>, <music21.pitch.Pitch A5>]\n",
      "[<music21.pitch.Pitch B4>, <music21.pitch.Pitch E-5>, <music21.pitch.Pitch G-5>, <music21.pitch.Pitch A5>]\n",
      "[<music21.pitch.Pitch D5>, <music21.pitch.Pitch F5>, <music21.pitch.Pitch A-5>, <music21.pitch.Pitch C6>]\n",
      "[<music21.pitch.Pitch D5>, <music21.pitch.Pitch F5>, <music21.pitch.Pitch A-5>, <music21.pitch.Pitch C6>]\n",
      "[<music21.pitch.Pitch B3>, <music21.pitch.Pitch E-4>, <music21.pitch.Pitch G-4>, <music21.pitch.Pitch A4>]\n",
      "[<music21.pitch.Pitch B3>, <music21.pitch.Pitch E-4>, <music21.pitch.Pitch G-4>, <music21.pitch.Pitch A4>]\n",
      "[<music21.pitch.Pitch B3>, <music21.pitch.Pitch E-4>, <music21.pitch.Pitch G-4>, <music21.pitch.Pitch A4>]\n",
      "[<music21.pitch.Pitch B3>, <music21.pitch.Pitch E-4>, <music21.pitch.Pitch G-4>, <music21.pitch.Pitch A4>]\n",
      "[<music21.pitch.Pitch F4>, <music21.pitch.Pitch A-4>, <music21.pitch.Pitch C5>, <music21.pitch.Pitch D5>]\n"
     ]
    },
    {
     "ename": "AccidentalException",
     "evalue": "m/caddb- is not a supported accidental type",
     "output_type": "error",
     "traceback": [
      "\u001b[31m---------------------------------------------------------------------------\u001b[39m",
      "\u001b[31mAccidentalException\u001b[39m                       Traceback (most recent call last)",
      "\u001b[36mCell\u001b[39m\u001b[36m \u001b[39m\u001b[32mIn[115]\u001b[39m\u001b[32m, line 6\u001b[39m\n\u001b[32m      2\u001b[39m files = [f \u001b[38;5;28;01mfor\u001b[39;00m f \u001b[38;5;129;01min\u001b[39;00m data_path.iterdir() \u001b[38;5;28;01mif\u001b[39;00m f.is_file()]\n\u001b[32m      4\u001b[39m NAME_WIDTH = \u001b[32m30\u001b[39m\n\u001b[32m      5\u001b[39m all_songs = [\n\u001b[32m----> \u001b[39m\u001b[32m6\u001b[39m   [\u001b[43mgen_chords\u001b[49m\u001b[43m(\u001b[49m\u001b[43mparse_midi_in_c\u001b[49m\u001b[43m(\u001b[49m\u001b[43mfp\u001b[49m\u001b[43m)\u001b[49m\u001b[43m.\u001b[49m\u001b[43mparts\u001b[49m\u001b[43m[\u001b[49m\u001b[32;43m0\u001b[39;49m\u001b[43m]\u001b[49m\u001b[43m)\u001b[49m \u001b[38;5;28;01mfor\u001b[39;00m fp \u001b[38;5;129;01min\u001b[39;00m tqdm(files, unit=\u001b[33m\"\u001b[39m\u001b[33mfile\u001b[39m\u001b[33m\"\u001b[39m)],\n\u001b[32m      7\u001b[39m   [gen_notes(parse_midi_in_c(fp).parts[\u001b[32m1\u001b[39m]) \u001b[38;5;28;01mfor\u001b[39;00m fp \u001b[38;5;129;01min\u001b[39;00m tqdm(files, unit=\u001b[33m\"\u001b[39m\u001b[33mfile\u001b[39m\u001b[33m\"\u001b[39m)]\n\u001b[32m      8\u001b[39m ]\n",
      "\u001b[36mCell\u001b[39m\u001b[36m \u001b[39m\u001b[32mIn[114]\u001b[39m\u001b[32m, line 36\u001b[39m, in \u001b[36mgen_chords\u001b[39m\u001b[34m(chords_part)\u001b[39m\n\u001b[32m     34\u001b[39m \tnew_cs = to_custom_chord(c)\n\u001b[32m     35\u001b[39m \u001b[38;5;28;01melse\u001b[39;00m:\n\u001b[32m---> \u001b[39m\u001b[32m36\u001b[39m \tcs = \u001b[43mharmony\u001b[49m\u001b[43m.\u001b[49m\u001b[43mchordSymbolFromChord\u001b[49m\u001b[43m(\u001b[49m\u001b[43mc\u001b[49m\u001b[43m)\u001b[49m\n\u001b[32m     37\u001b[39m \t\u001b[38;5;28;01mif\u001b[39;00m \u001b[33m\"\u001b[39m\u001b[33mCannot\u001b[39m\u001b[33m\"\u001b[39m \u001b[38;5;129;01min\u001b[39;00m cs.figure:\n\u001b[32m     38\u001b[39m \t\tpitches = [p \u001b[38;5;28;01mfor\u001b[39;00m p \u001b[38;5;129;01min\u001b[39;00m c.pitches]\n",
      "\u001b[36mFile \u001b[39m\u001b[32mc:\\Users\\circ8\\Documents\\Chris\\GitHub Repositories\\midi-ai\\.venv\\Lib\\site-packages\\music21\\harmony.py:1379\u001b[39m, in \u001b[36mchordSymbolFromChord\u001b[39m\u001b[34m(inChord)\u001b[39m\n\u001b[32m   1367\u001b[39m \u001b[38;5;28;01mdef\u001b[39;00m\u001b[38;5;250m \u001b[39m\u001b[34mchordSymbolFromChord\u001b[39m(inChord: chord.Chord) -> ChordSymbol:\n\u001b[32m   1368\u001b[39m \u001b[38;5;250m    \u001b[39m\u001b[33;03m'''\u001b[39;00m\n\u001b[32m   1369\u001b[39m \u001b[33;03m    Get the :class:`~music21.harmony.chordSymbol` object from the chord, using\u001b[39;00m\n\u001b[32m   1370\u001b[39m \u001b[33;03m    :meth:`music21.harmony.Harmony.chordSymbolFigureFromChord`\u001b[39;00m\n\u001b[32m   (...)\u001b[39m\u001b[32m   1377\u001b[39m \u001b[33;03m    True\u001b[39;00m\n\u001b[32m   1378\u001b[39m \u001b[33;03m    '''\u001b[39;00m\n\u001b[32m-> \u001b[39m\u001b[32m1379\u001b[39m     cs = \u001b[43mChordSymbol\u001b[49m\u001b[43m(\u001b[49m\u001b[43mchordSymbolFigureFromChord\u001b[49m\u001b[43m(\u001b[49m\u001b[43minChord\u001b[49m\u001b[43m)\u001b[49m\u001b[43m)\u001b[49m\n\u001b[32m   1380\u001b[39m     cs.pitches = inChord.pitches\n\u001b[32m   1381\u001b[39m     \u001b[38;5;28;01mreturn\u001b[39;00m cs\n",
      "\u001b[36mFile \u001b[39m\u001b[32mc:\\Users\\circ8\\Documents\\Chris\\GitHub Repositories\\midi-ai\\.venv\\Lib\\site-packages\\music21\\harmony.py:1632\u001b[39m, in \u001b[36mChordSymbol.__init__\u001b[39m\u001b[34m(self, figure, root, bass, inversion, kind, kindStr, **keywords)\u001b[39m\n\u001b[32m   1629\u001b[39m \u001b[38;5;28mself\u001b[39m.chordKind = kind  \u001b[38;5;66;03m# a string from defined list of chord symbol harmonies\u001b[39;00m\n\u001b[32m   1630\u001b[39m \u001b[38;5;28mself\u001b[39m.chordKindStr = kindStr  \u001b[38;5;66;03m# the presentation of the kind or label of symbol\u001b[39;00m\n\u001b[32m-> \u001b[39m\u001b[32m1632\u001b[39m \u001b[38;5;28;43msuper\u001b[39;49m\u001b[43m(\u001b[49m\u001b[43m)\u001b[49m\u001b[43m.\u001b[49m\u001b[34;43m__init__\u001b[39;49m\u001b[43m(\u001b[49m\u001b[43mfigure\u001b[49m\u001b[43m,\u001b[49m\u001b[43m \u001b[49m\u001b[43mroot\u001b[49m\u001b[43m=\u001b[49m\u001b[43mroot\u001b[49m\u001b[43m,\u001b[49m\u001b[43m \u001b[49m\u001b[43mbass\u001b[49m\u001b[43m=\u001b[49m\u001b[43mbass\u001b[49m\u001b[43m,\u001b[49m\u001b[43m \u001b[49m\u001b[43minversion\u001b[49m\u001b[43m=\u001b[49m\u001b[43minversion\u001b[49m\u001b[43m,\u001b[49m\u001b[43m \u001b[49m\u001b[43m*\u001b[49m\u001b[43m*\u001b[49m\u001b[43mkeywords\u001b[49m\u001b[43m)\u001b[49m\n\u001b[32m   1633\u001b[39m \u001b[38;5;28;01mif\u001b[39;00m \u001b[33m'\u001b[39m\u001b[33mduration\u001b[39m\u001b[33m'\u001b[39m \u001b[38;5;129;01mnot\u001b[39;00m \u001b[38;5;129;01min\u001b[39;00m keywords \u001b[38;5;129;01mand\u001b[39;00m \u001b[33m'\u001b[39m\u001b[33mquarterLength\u001b[39m\u001b[33m'\u001b[39m \u001b[38;5;129;01mnot\u001b[39;00m \u001b[38;5;129;01min\u001b[39;00m keywords:\n\u001b[32m   1634\u001b[39m     \u001b[38;5;28mself\u001b[39m.duration = duration.Duration(\u001b[32m0\u001b[39m)\n",
      "\u001b[36mFile \u001b[39m\u001b[32mc:\\Users\\circ8\\Documents\\Chris\\GitHub Repositories\\midi-ai\\.venv\\Lib\\site-packages\\music21\\harmony.py:242\u001b[39m, in \u001b[36mHarmony.__init__\u001b[39m\u001b[34m(self, figure, root, bass, inversion, updatePitches, **keywords)\u001b[39m\n\u001b[32m    240\u001b[39m \u001b[38;5;28mself\u001b[39m._figure = figure\n\u001b[32m    241\u001b[39m \u001b[38;5;28;01mif\u001b[39;00m \u001b[38;5;28mself\u001b[39m._figure:\n\u001b[32m--> \u001b[39m\u001b[32m242\u001b[39m     \u001b[38;5;28;43mself\u001b[39;49m\u001b[43m.\u001b[49m\u001b[43m_parseFigure\u001b[49m\u001b[43m(\u001b[49m\u001b[43m)\u001b[49m\n\u001b[32m    243\u001b[39m \u001b[38;5;66;03m# if the bass is not specified, but the root is,\u001b[39;00m\n\u001b[32m    244\u001b[39m \u001b[38;5;66;03m# assume the bass and root are identical and\u001b[39;00m\n\u001b[32m    245\u001b[39m \u001b[38;5;66;03m# assign the values accordingly\u001b[39;00m\n\u001b[32m    246\u001b[39m \u001b[38;5;28;01mif\u001b[39;00m \u001b[33m'\u001b[39m\u001b[33mbass\u001b[39m\u001b[33m'\u001b[39m \u001b[38;5;129;01mnot\u001b[39;00m \u001b[38;5;129;01min\u001b[39;00m \u001b[38;5;28mself\u001b[39m._overrides \u001b[38;5;129;01mand\u001b[39;00m \u001b[33m'\u001b[39m\u001b[33mroot\u001b[39m\u001b[33m'\u001b[39m \u001b[38;5;129;01min\u001b[39;00m \u001b[38;5;28mself\u001b[39m._overrides:\n",
      "\u001b[36mFile \u001b[39m\u001b[32mc:\\Users\\circ8\\Documents\\Chris\\GitHub Repositories\\midi-ai\\.venv\\Lib\\site-packages\\music21\\harmony.py:1977\u001b[39m, in \u001b[36mChordSymbol._parseFigure\u001b[39m\u001b[34m(self)\u001b[39m\n\u001b[32m   1973\u001b[39m         \u001b[38;5;28;01mraise\u001b[39;00m \u001b[38;5;167;01mValueError\u001b[39;00m(\u001b[33mf\u001b[39m\u001b[33m'\u001b[39m\u001b[33mChord \u001b[39m\u001b[38;5;132;01m{\u001b[39;00mprelimFigure\u001b[38;5;132;01m}\u001b[39;00m\u001b[33m does not begin \u001b[39m\u001b[33m'\u001b[39m\n\u001b[32m   1974\u001b[39m                          + \u001b[33m'\u001b[39m\u001b[33mwith a valid root note.\u001b[39m\u001b[33m'\u001b[39m)\n\u001b[32m   1976\u001b[39m \u001b[38;5;28;01mif\u001b[39;00m root:\n\u001b[32m-> \u001b[39m\u001b[32m1977\u001b[39m     \u001b[38;5;28mself\u001b[39m.root(\u001b[43mpitch\u001b[49m\u001b[43m.\u001b[49m\u001b[43mPitch\u001b[49m\u001b[43m(\u001b[49m\u001b[43mroot\u001b[49m\u001b[43m)\u001b[49m)\n\u001b[32m   1979\u001b[39m \u001b[38;5;66;03m# Get optional Bass:\u001b[39;00m\n\u001b[32m   1980\u001b[39m m2 = re.search(\u001b[33mr\u001b[39m\u001b[33m'\u001b[39m\u001b[33m/[A-Ga-g][#-]*\u001b[39m\u001b[33m'\u001b[39m, prelimFigure)  \u001b[38;5;66;03m# match not case-sensitive\u001b[39;00m\n",
      "\u001b[36mFile \u001b[39m\u001b[32mc:\\Users\\circ8\\Documents\\Chris\\GitHub Repositories\\midi-ai\\.venv\\Lib\\site-packages\\music21\\pitch.py:1959\u001b[39m, in \u001b[36mPitch.__init__\u001b[39m\u001b[34m(self, name, step, octave, accidental, microtone, pitchClass, midi, ps, fundamental, **keywords)\u001b[39m\n\u001b[32m   1957\u001b[39m \u001b[38;5;28;01mif\u001b[39;00m name \u001b[38;5;129;01mis\u001b[39;00m \u001b[38;5;129;01mnot\u001b[39;00m \u001b[38;5;28;01mNone\u001b[39;00m:\n\u001b[32m   1958\u001b[39m     \u001b[38;5;28;01mif\u001b[39;00m \u001b[38;5;28misinstance\u001b[39m(name, \u001b[38;5;28mstr\u001b[39m):\n\u001b[32m-> \u001b[39m\u001b[32m1959\u001b[39m         \u001b[38;5;28;43mself\u001b[39;49m\u001b[43m.\u001b[49m\u001b[43mname\u001b[49m = name  \u001b[38;5;66;03m# set based on string\u001b[39;00m\n\u001b[32m   1960\u001b[39m     \u001b[38;5;28;01melse\u001b[39;00m:  \u001b[38;5;66;03m# is a number\u001b[39;00m\n\u001b[32m   1961\u001b[39m         \u001b[38;5;66;03m# is a midiNumber or a ps -- a float midiNumber\u001b[39;00m\n\u001b[32m   1962\u001b[39m         \u001b[38;5;66;03m# get step and accidental w/o octave\u001b[39;00m\n\u001b[32m   1963\u001b[39m         \u001b[38;5;28mself\u001b[39m.step, \u001b[38;5;28mself\u001b[39m._accidental = _convertPsToStep(name)[\u001b[32m0\u001b[39m:\u001b[32m2\u001b[39m]\n",
      "\u001b[36mFile \u001b[39m\u001b[32mc:\\Users\\circ8\\Documents\\Chris\\GitHub Repositories\\midi-ai\\.venv\\Lib\\site-packages\\music21\\pitch.py:2817\u001b[39m, in \u001b[36mPitch.name\u001b[39m\u001b[34m(self, usrStr)\u001b[39m\n\u001b[32m   2815\u001b[39m \u001b[38;5;28;01melif\u001b[39;00m \u001b[38;5;28mlen\u001b[39m(usrStr) > \u001b[32m1\u001b[39m:\n\u001b[32m   2816\u001b[39m     \u001b[38;5;28mself\u001b[39m.step = usrStr[\u001b[32m0\u001b[39m]  \u001b[38;5;66;03m# type: ignore\u001b[39;00m\n\u001b[32m-> \u001b[39m\u001b[32m2817\u001b[39m     \u001b[38;5;28mself\u001b[39m.accidental = \u001b[43mAccidental\u001b[49m\u001b[43m(\u001b[49m\u001b[43musrStr\u001b[49m\u001b[43m[\u001b[49m\u001b[32;43m1\u001b[39;49m\u001b[43m:\u001b[49m\u001b[43m]\u001b[49m\u001b[43m)\u001b[49m\n\u001b[32m   2818\u001b[39m \u001b[38;5;28;01melse\u001b[39;00m:\n\u001b[32m   2819\u001b[39m     \u001b[38;5;28;01mraise\u001b[39;00m PitchException(\u001b[33mf\u001b[39m\u001b[33m'\u001b[39m\u001b[33mCannot make a name out of \u001b[39m\u001b[38;5;132;01m{\u001b[39;00musrStr\u001b[38;5;132;01m!r}\u001b[39;00m\u001b[33m'\u001b[39m)\n",
      "\u001b[36mFile \u001b[39m\u001b[32mc:\\Users\\circ8\\Documents\\Chris\\GitHub Repositories\\midi-ai\\.venv\\Lib\\site-packages\\music21\\pitch.py:1019\u001b[39m, in \u001b[36mAccidental.__init__\u001b[39m\u001b[34m(self, specifier)\u001b[39m\n\u001b[32m   1017\u001b[39m \u001b[38;5;28mself\u001b[39m._alter = \u001b[32m0.0\u001b[39m     \u001b[38;5;66;03m# semitones to alter step\u001b[39;00m\n\u001b[32m   1018\u001b[39m \u001b[38;5;66;03m# potentially can be a fraction, but not exponent\u001b[39;00m\n\u001b[32m-> \u001b[39m\u001b[32m1019\u001b[39m \u001b[38;5;28;43mself\u001b[39;49m\u001b[43m.\u001b[49m\u001b[43mset\u001b[49m\u001b[43m(\u001b[49m\u001b[43mspecifier\u001b[49m\u001b[43m)\u001b[49m\n",
      "\u001b[36mFile \u001b[39m\u001b[32mc:\\Users\\circ8\\Documents\\Chris\\GitHub Repositories\\midi-ai\\.venv\\Lib\\site-packages\\music21\\pitch.py:1283\u001b[39m, in \u001b[36mAccidental.set\u001b[39m\u001b[34m(self, name, allowNonStandardValue)\u001b[39m\n\u001b[32m   1281\u001b[39m \u001b[38;5;28;01melse\u001b[39;00m:\n\u001b[32m   1282\u001b[39m     \u001b[38;5;28;01mif\u001b[39;00m \u001b[38;5;129;01mnot\u001b[39;00m allowNonStandardValue:\n\u001b[32m-> \u001b[39m\u001b[32m1283\u001b[39m         \u001b[38;5;28;01mraise\u001b[39;00m AccidentalException(\u001b[33mf\u001b[39m\u001b[33m'\u001b[39m\u001b[38;5;132;01m{\u001b[39;00mname\u001b[38;5;132;01m}\u001b[39;00m\u001b[33m is not a supported accidental type\u001b[39m\u001b[33m'\u001b[39m)\n\u001b[32m   1285\u001b[39m     \u001b[38;5;28;01mif\u001b[39;00m \u001b[38;5;28misinstance\u001b[39m(name, \u001b[38;5;28mstr\u001b[39m):\n\u001b[32m   1286\u001b[39m         \u001b[38;5;28mself\u001b[39m._name = name\n",
      "\u001b[31mAccidentalException\u001b[39m: m/caddb- is not a supported accidental type"
     ]
    }
   ],
   "source": [
    "data_path = Path(\"data\")\n",
    "files = [f for f in data_path.iterdir() if f.is_file()]\n",
    "\n",
    "NAME_WIDTH = 30\n",
    "all_songs = [\n",
    "  [gen_chords(parse_midi_in_c(fp).parts[0]) for fp in tqdm(files, unit=\"file\")],\n",
    "  [gen_notes(parse_midi_in_c(fp).parts[1]) for fp in tqdm(files, unit=\"file\")]\n",
    "]"
   ]
  },
  {
   "cell_type": "code",
   "execution_count": 38,
   "id": "47874ed3",
   "metadata": {},
   "outputs": [
    {
     "name": "stdout",
     "output_type": "stream",
     "text": [
      "[['E5', 2.0], ['C5', 1.0], ['A4', Fraction(2, 3)], ['F4', Fraction(1, 3)]]\n"
     ]
    }
   ],
   "source": [
    "pprint(all_songs[0][3])"
   ]
  },
  {
   "cell_type": "markdown",
   "id": "101b25d9",
   "metadata": {},
   "source": [
    "Lovely. Our notes script works exactly as anticipated with lists stacked like so:\n",
    "\n",
    "- List of `all_songs`\n",
    "  - List of all measures of a song\n",
    "    - List of all data in the measure\n",
    "      - List of note/rest information where `[\"note-name\", float(note_len)]`\n",
    "\n",
    "Now, let's see if we can repair our `gen_chords` function. Right now, `music21` isn't recognizing `alt7` chords."
   ]
  },
  {
   "cell_type": "markdown",
   "id": "c6def7a2",
   "metadata": {},
   "source": [
    "### Fixing `gen_chords`\n",
    "\n",
    "`music21`'s `harmony` has `addNewChordSymbol` functionality, let's see if we can get it to recognize an `alt7` chord. The culprit was a B7alt chord with the notes `[\"B4\", \"D5\", \"F5\", \"A5\", \"C6\", \"E-6\", \"G6\"]`."
   ]
  },
  {
   "cell_type": "code",
   "execution_count": 39,
   "id": "63865119",
   "metadata": {},
   "outputs": [
    {
     "data": {
      "text/plain": [
       "(<music21.pitch.Pitch B2>,\n",
       " <music21.pitch.Pitch C3>,\n",
       " <music21.pitch.Pitch D3>,\n",
       " <music21.pitch.Pitch E-3>,\n",
       " <music21.pitch.Pitch F3>,\n",
       " <music21.pitch.Pitch G3>,\n",
       " <music21.pitch.Pitch A3>)"
      ]
     },
     "execution_count": 39,
     "metadata": {},
     "output_type": "execute_result"
    }
   ],
   "source": [
    "# harmony.addNewChordSymbol('alt7', '1,b3,b5,b7,b9,b11,b13', ['alt7', '7alt'])\n",
    "harmony.addNewChordSymbol('7alt', '1,-3,-5,-7,-9,-11,-13', ['alt7', '7alt'])\n",
    "custom_cs = harmony.ChordSymbol('Balt7')\n",
    "custom_cs.pitches"
   ]
  },
  {
   "cell_type": "code",
   "execution_count": 113,
   "id": "6114d65b",
   "metadata": {},
   "outputs": [
    {
     "name": "stdout",
     "output_type": "stream",
     "text": [
      "(<music21.pitch.Pitch A-2>,\n",
      " <music21.pitch.Pitch B-2>,\n",
      " <music21.pitch.Pitch C3>,\n",
      " <music21.pitch.Pitch E-3>,\n",
      " <music21.pitch.Pitch F3>,\n",
      " <music21.pitch.Pitch G3>)\n"
     ]
    }
   ],
   "source": [
    "# Define custom chord symbols\n",
    "harmony.addNewChordSymbol(\"7alt\", \"1,-3,-5,-7,-9,-11,-13\", [\"alt7\", \"7alt\"])\n",
    "harmony.addNewChordSymbol(\"m6\", \"1,-3,5,6\", [\"m6\", \"(min6)\"])\n",
    "harmony.addNewChordSymbol(\"13\", \"1,3,5,7,9,13\", [\"13\", \"(13)\"])\n",
    "harmony.addNewChordSymbol(\"69\", \"1,3,5,6,9\", [\"69\", \"6/9\"])\n",
    "\n",
    "test = harmony.ChordSymbol(\"A-13x\")\n",
    "pprint(test.pitches)\n",
    "\n",
    "custom_chords = [\"7alt\", \"m6\", \"13\", \"69\"]\n",
    "\n",
    "# Input chord\n",
    "input_notes = [note.Note(n) for n in [\"A-4\", \"C5\", \"E-5\", \"G-5\", \"B-5\", \"F6\"]]\n",
    "input_chord = chord.Chord(input_notes)\n",
    "\n",
    "root = input_chord.pitches[0].name\n",
    "custom_idx = [False] * len(custom_chords)\n",
    "\n",
    "for idx, c_name in enumerate(custom_chords):\n",
    "    c_chord = harmony.ChordSymbol(f\"{root}{c_name}\")\n",
    "    # Check if all input pitches are in this custom chord\n",
    "    if all(p in c_chord.pitches for p in input_chord.pitches):\n",
    "        custom_idx[idx] = True\n",
    "\n",
    "# Print matched chords\n",
    "for idx, matched in enumerate(custom_idx):\n",
    "    if matched:\n",
    "        new_chord = harmony.ChordSymbol(f\"{root}{custom_chords[idx]}\")\n",
    "        print(f\"Matched chord: {new_chord.figure}\")\n"
   ]
  },
  {
   "cell_type": "code",
   "execution_count": 41,
   "id": "985b58ab",
   "metadata": {},
   "outputs": [
    {
     "name": "stdout",
     "output_type": "stream",
     "text": [
      "<music21.harmony.ChordSymbol Balt7>\n"
     ]
    }
   ],
   "source": [
    "note_names = [\"B4\", \"D5\", \"F5\", \"A5\", \"C6\", \"E-6\", \"G6\"]\n",
    "note_vals = [note.Note(n, quarterLength=1.0) for n in note_names]\n",
    "test_chord = chord.Chord(note_vals)\n",
    "\n",
    "# [p.name for p in test_chord.pitches]\n",
    "\n",
    "def to_alt7(input_chord):\n",
    "  input_chord_root = input_chord.pitches[0].name\n",
    "  return harmony.ChordSymbol(f\"{input_chord_root}alt7\")\n",
    "\n",
    "def is_alt7(input_chord):\n",
    "  input_chord_root = input_chord.pitches[0].name\n",
    "  alt7_chord = harmony.ChordSymbol(f\"{input_chord_root}alt7\")\n",
    "  is_in_alt7 = True\n",
    "  input_pitches = [p.name for p in input_chord.pitches]\n",
    "  for p in input_pitches:\n",
    "    if p not in [a.name for a in alt7_chord.pitches]:\n",
    "      is_in_alt7 = False\n",
    "  return is_in_alt7\n",
    "\n",
    "if is_alt7(test_chord):\n",
    "  updated_chord = to_alt7(test_chord)\n",
    "\n",
    "print(updated_chord)"
   ]
  }
 ],
 "metadata": {
  "kernelspec": {
   "display_name": ".venv",
   "language": "python",
   "name": "python3"
  },
  "language_info": {
   "codemirror_mode": {
    "name": "ipython",
    "version": 3
   },
   "file_extension": ".py",
   "mimetype": "text/x-python",
   "name": "python",
   "nbconvert_exporter": "python",
   "pygments_lexer": "ipython3",
   "version": "3.13.2"
  }
 },
 "nbformat": 4,
 "nbformat_minor": 5
}
