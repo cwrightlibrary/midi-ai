{
 "cells": [
  {
   "cell_type": "markdown",
   "id": "9b0b1e1f",
   "metadata": {},
   "source": [
    "# midiAI\n",
    "\n",
    "In this notebook, I'll go through my process of using `music21` to create lists of information about songs generated from the `.midi` files in `data/` generated from the [*OpenBook*](https://veltzer.github.io/openbook/) repository.\n",
    "\n",
    "I'll start by importing my libraries first:\n",
    "\n",
    "- `music21`: I'll be using `converter` to parse the midi file, `interval` and `key` to change the key to C major, and `note` to get the note data\n",
    "- `Path`: Just using `pathlib` for my files\n",
    "- `tqdm`: I'll use `tqdm.noetbook.tqdm` to show the progress of converting the `.midi` files to `str`ings"
   ]
  },
  {
   "cell_type": "code",
   "execution_count": 130,
   "id": "ca099199",
   "metadata": {},
   "outputs": [],
   "source": [
    "from music21 import converter, interval, key, note\n",
    "from pathlib import Path\n",
    "from pprint import pprint\n",
    "from tqdm.notebook import tqdm"
   ]
  },
  {
   "cell_type": "markdown",
   "id": "cf0a3dfe",
   "metadata": {},
   "source": [
    "## `data/` filepath\n",
    "\n",
    "The first step is to define my `data_path` (which contains all of my `.midi` files) and create a list of each file in the directory."
   ]
  },
  {
   "cell_type": "code",
   "execution_count": 131,
   "id": "6025aefe",
   "metadata": {},
   "outputs": [],
   "source": [
    "data_path = Path(\"data\")\n",
    "files = [f for f in data_path.iterdir() if f.is_file() and f.suffix.lower() == \".midi\"]"
   ]
  },
  {
   "cell_type": "markdown",
   "id": "7d73f100",
   "metadata": {},
   "source": [
    "## Parsing with `music21`\n",
    "\n",
    "Next, I'll define my functions to return a string of midi notes and lengths."
   ]
  },
  {
   "cell_type": "code",
   "execution_count": 132,
   "id": "267240e7",
   "metadata": {},
   "outputs": [],
   "source": [
    "def parse(fp):\n",
    "\ts = converter.parse(fp)\n",
    "\to_key = s.flatten().getElementsByClass(key.KeySignature)[0]\n",
    "\tif (o_key.tonic == \"C\" and o_key.mode == \"major\") or (o_key.tonic == \"A\" and o_key.mode == \"minor\"):\n",
    "\t\treturn s\n",
    "\tt_key = key.Key(\"C\") if o_key.mode == \"major\" else key.Key(\"A\", \"minor\")\n",
    "\ti = interval.Interval(o_key.tonic, t_key.tonic)\n",
    "\tns = s.transpose(i)\n",
    "\treturn ns\n",
    "\n",
    "def get_notes(s):\n",
    "\tsong_data = []\n",
    "\tfor p in s.parts[1]:\n",
    "\t\tfor n in p:\n",
    "\t\t\tn_name = n.pitch.midi if isinstance(n, note.Note) else -1\n",
    "\t\t\tn_len = round(float(n.quarterLength), 2)\n",
    "\t\t\tn_info = f\"{str(n_name)}:{str(n_len)}\"\n",
    "\t\t\tif n_len != 0.0:\n",
    "\t\t\t\tsong_data.append(n_info)\n",
    "\treturn song_data\n",
    "\n",
    "def song_to_str(n):\n",
    "\treturn f\"{' '.join(n)}\"\n",
    "\n",
    "def midi_to_str(fp):\n",
    "\treturn song_to_str(get_notes(parse(fp)))"
   ]
  },
  {
   "cell_type": "markdown",
   "id": "1246c731",
   "metadata": {},
   "source": [
    "## Processing `.midi` files\n",
    "\n",
    "Let's put them into use by creating a list of each song's parsed string."
   ]
  },
  {
   "cell_type": "code",
   "execution_count": 133,
   "id": "252d5c22",
   "metadata": {},
   "outputs": [
    {
     "data": {
      "application/vnd.jupyter.widget-view+json": {
       "model_id": "bcc570671606497786f1d5dbb83bcc7f",
       "version_major": 2,
       "version_minor": 0
      },
      "text/plain": [
       "  0%|          | 0/153 [00:00<?, ?file/s]"
      ]
     },
     "metadata": {},
     "output_type": "display_data"
    }
   ],
   "source": [
    "songs = []\n",
    "\n",
    "for fp in tqdm(files, unit=\"file\"):\n",
    "  song_str = song_to_str(get_notes(parse(fp)))\n",
    "  songs.append(song_str)"
   ]
  },
  {
   "cell_type": "markdown",
   "id": "10313c37",
   "metadata": {},
   "source": [
    "Next, I'll create a text file `prepared_notes.txt` which contains each of the strings separated by two newline characters."
   ]
  },
  {
   "cell_type": "code",
   "execution_count": 134,
   "id": "e3e41043",
   "metadata": {},
   "outputs": [],
   "source": [
    "all_songs = \"\\n\\n\".join(songs)\n",
    "with open(\"prepared_notes.txt\", \"w\", encoding=\"utf-8\") as f:\n",
    "  f.write(all_songs)"
   ]
  },
  {
   "cell_type": "markdown",
   "id": "b47c2696",
   "metadata": {},
   "source": [
    "## Examining `prepared_notes.txt`\n",
    "\n",
    "Let's take a look at some information in our prepared file."
   ]
  },
  {
   "cell_type": "code",
   "execution_count": 135,
   "id": "5ca13ffe",
   "metadata": {},
   "outputs": [],
   "source": [
    "songs = open(\"prepared_notes.txt\", \"r\", encoding=\"utf-8\").read().strip()\n",
    "notes = songs.split()\n",
    "\n",
    "note_names = set()\n",
    "note_lens = set()\n",
    "\n",
    "for n in notes:\n",
    "  note_name = int(n.split(\":\")[0])\n",
    "  note_len = float(n.split(\":\")[1])\n",
    "  note_names.add(note_name)\n",
    "  if round(note_len % 1, 2) in [0, 0.25, 0.33, 0.5, 0.67, 0.75]:\n",
    "    note_lens.add(float(n.split(\":\")[1]))\n",
    "\n",
    "note_names = sorted(list(note_names))\n",
    "note_lens = sorted(list(note_lens))"
   ]
  },
  {
   "cell_type": "markdown",
   "id": "bdda14a2",
   "metadata": {},
   "source": [
    "Now let's get a couple of dictionaries to map the midi note values to their associated names."
   ]
  },
  {
   "cell_type": "code",
   "execution_count": 136,
   "id": "e9485020",
   "metadata": {},
   "outputs": [],
   "source": [
    "midi_numbers = [i for i in range(43, 89)]\n",
    "\n",
    "note_names = [\"C\", \"C#\", \"D\", \"E-\", \"E\", \"F\", \"F#\", \"G\", \"G#\", \"A\", \"B-\", \"B\"]\n",
    "\n",
    "midi_value_to_note = {n: f\"{note_names[n % 12]}{(n // 12) - 1}\" for n in midi_numbers}\n",
    "\n",
    "midi_value_to_note[-1] = \"REST\""
   ]
  },
  {
   "cell_type": "code",
   "execution_count": 137,
   "id": "f6835ab5",
   "metadata": {},
   "outputs": [],
   "source": [
    "readable_notes = []\n",
    "for n in notes:\n",
    "  note_name = int(n.split(\":\")[0])\n",
    "  note_len = float(n.split(\":\")[1])\n",
    "  if round(note_len % 1, 2) in [0, 0.25, 0.33, 0.5, 0.67, 0.75]:\n",
    "    readable_notes.append((note_name, note_len))\n",
    "readable_notes = sorted(readable_notes, key=lambda x: x[0])\n",
    "\n",
    "new_notes = []\n",
    "\n",
    "for n in readable_notes:\n",
    "  v = str(n[0])\n",
    "  l = str(n[1])\n",
    "  new_notes.append(\":\".join([v,l]))"
   ]
  }
 ],
 "metadata": {
  "kernelspec": {
   "display_name": ".venv (3.13.5)",
   "language": "python",
   "name": "python3"
  },
  "language_info": {
   "codemirror_mode": {
    "name": "ipython",
    "version": 3
   },
   "file_extension": ".py",
   "mimetype": "text/x-python",
   "name": "python",
   "nbconvert_exporter": "python",
   "pygments_lexer": "ipython3",
   "version": "3.13.5"
  }
 },
 "nbformat": 4,
 "nbformat_minor": 5
}
