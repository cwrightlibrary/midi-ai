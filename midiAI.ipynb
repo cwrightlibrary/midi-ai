{
 "cells": [
  {
   "cell_type": "markdown",
   "id": "9b0b1e1f",
   "metadata": {},
   "source": [
    "# midiAI"
   ]
  },
  {
   "cell_type": "code",
   "execution_count": 90,
   "id": "ca099199",
   "metadata": {},
   "outputs": [],
   "source": [
    "from IPython.display import Audio\n",
    "from midi2audio import FluidSynth\n",
    "from music21 import converter, interval, key, meter, note, stream\n",
    "from pathlib import Path\n",
    "from pprint import pprint\n",
    "from tqdm.notebook import tqdm"
   ]
  },
  {
   "cell_type": "code",
   "execution_count": null,
   "id": "123e9ceb",
   "metadata": {},
   "outputs": [],
   "source": [
    "def parse(fp):\n",
    "\ts = converter.parse(fp)\n",
    "\to_key = s.flatten().getElementsByClass(key.KeySignature)[0]\n",
    "\tif (o_key.tonic == \"C\" and o_key.mode == \"major\") or (o_key.tonic == \"A\" and o_key.mode == \"minor\"):\n",
    "\t\treturn s\n",
    "\tt_key = key.Key(\"C\") if o_key.mode == \"major\" else key.Key(\"A\", \"minor\")\n",
    "\ti = interval.Interval(o_key.tonic, t_key.tonic)\n",
    "\tns = s.transpose(i)\n",
    "\treturn ns\n",
    "\n",
    "def split_long_notes(s):\n",
    "\tns = stream.Score()\n",
    "\tfor p in s.parts:\n",
    "\t\tnp = stream.Part()\n",
    "\t\tts = p.recurse().getElementsByClass(meter.TimeSignature).first()\n",
    "\t\tif ts is None:\n",
    "\t\t\tbar_len = 4.0\n",
    "\t\telse:\n",
    "\t\t\tbar_len = ts.barDuration.quarterLength\n",
    "\t\tcurrent_measure = stream.Measure()\n",
    "\t\tmeasure_remaining = bar_len\n",
    "\n",
    "\t\tfor n in p.flat.notesAndRests:\n",
    "\t\t\tdur = n.quarterLength\n",
    "\t\t\tpitch = n.pitch if isinstance(n, note.Note) else None\n",
    "\t\t\twhile dur > 0:\n",
    "\t\t\t\tif dur <= measure_remaining:\n",
    "\t\t\t\t\tn_new = note.Note(pitch, quarterLength=dur) if pitch else note.Rest(quarterLength=dur)\n",
    "\t\t\t\t\tcurrent_measure.append(n_new)\n",
    "\t\t\t\t\tmeasure_remaining -= dur\n",
    "\t\t\t\t\tdur = 0\n",
    "\t\t\t\telse:\n",
    "\t\t\t\t\tn_new = note.Note(pitch, quarterLength=measure_remaining) if pitch else note.Rest(quarterLength=measure_remaining)\n",
    "\t\t\t\t\tcurrent_measure.append(n_new)\n",
    "\t\t\t\t\tdur -= measure_remaining\n",
    "\t\t\t\t\tnp.append(current_measure)\n",
    "\t\t\t\t\tcurrent_measure = stream.Measure()\n",
    "\t\t\t\t\tmeasure_remaining = bar_len\n",
    "\t\tif len(current_measure.notes) > 0:\n",
    "\t\t\tnp.append(current_measure)\n",
    "\t\tns.append(np)\n",
    "\treturn ns\n",
    "\n",
    "def gen_notes(s):\n",
    "\tnote_measures = []\n",
    "\tleading_measure_last_note = None\n",
    "\tfor item in s.parts[1]:\n",
    "\t\tmeasure = []\n",
    "\t\tfor n in item:\n",
    "\t\t\tn_name = n.pitch.midi if isinstance(n, note.Note) else -1\n",
    "\t\t\tn_len = n.quarterLength\n",
    "\t\t\tn_info = (n_name, n_len)\n",
    "\t\t\tmeasure.append(n_info)\n",
    "\t\tif measure[0] == (-1, 0.0):\n",
    "\t\t\tleading_fixes = summarize_leading_measure(measure)\n",
    "\t\t\tnote_measures.append(leading_fixes[0])\n",
    "\t\t\tleading_measure_last_note = leading_fixes[1]\n",
    "\t\telse:\n",
    "\t\t\tnote_measures.append(measure)\n",
    "\tif leading_measure_last_note:\n",
    "\t\tnote_measures[1].insert(0, leading_measure_last_note)\n",
    "\t\tfor i in range(2, len(note_measures)):\n",
    "\t\t\tlast = note_measures[i - 1].pop(-1)\n",
    "\t\t\tnote_measures[i].insert(0, last)\n",
    "\treturn note_measures\n",
    "\n",
    "def summarize_leading_measure(measure):\n",
    "\tnew_measure = []\n",
    "\tlast_note = None\n",
    "\tleading_measure = measure[0]\n",
    "\tfor idx in range(len(measure)):\n",
    "\t\tif measure[idx] != leading_measure and idx != len(measure) - 1:\n",
    "\t\t\tnew_measure.append(measure[idx])\n",
    "\t\tlast_note = measure[-1]\n",
    "\tif last_note:\n",
    "\t\treturn (new_measure, last_note)"
   ]
  },
  {
   "cell_type": "code",
   "execution_count": 83,
   "id": "6025aefe",
   "metadata": {},
   "outputs": [],
   "source": [
    "data_path = Path(\"data\")\n",
    "files = [f for f in data_path.iterdir() if f.is_file() and f.suffix.lower() == \".midi\"]"
   ]
  },
  {
   "cell_type": "code",
   "execution_count": 84,
   "id": "2e7f5aee",
   "metadata": {},
   "outputs": [],
   "source": [
    "test = parse(\"data/500_miles_high.midi\")\n",
    "t = gen_notes(test)\n",
    "\n",
    "# pprint(t)"
   ]
  },
  {
   "cell_type": "code",
   "execution_count": 87,
   "id": "267240e7",
   "metadata": {},
   "outputs": [
    {
     "name": "stdout",
     "output_type": "stream",
     "text": [
      "[[(55, 1.0), (57, 1.0), (55, 1.0)],\n",
      " [(64, 1.0), (60, 1.0), (-1, 1.0), (64, 1.0), (62, 1.0)],\n",
      " [(60, 1.0), (-1, 1.0), (64, 1.0), (64, 1.0)],\n",
      " [(60, 4.0)],\n",
      " [(52, 1.0), (53, 1.0), (52, 1.0), (57, 1.0)],\n",
      " [(55, 1.0), (-1, 1.0), (59, 1.0), (57, 1.0)],\n",
      " [(55, 1.0), (-1, 1.0), (59, 1.0), (59, 1.0)],\n",
      " [(55, 4.0)],\n",
      " [(55, 1.0), (57, 1.0), (55, 1.0), (64, 1.0)],\n",
      " [(60, 1.0), (-1, 1.0), (64, 1.0), (62, 1.0)],\n",
      " [(60, 1.0), (-1, 1.0), (64, 1.0), (64, 1.0)],\n",
      " [(60, 4.0)],\n",
      " [(52, 1.0), (53, 1.0), (52, 1.0), (57, 1.0)],\n",
      " [(55, 1.0), (-1, 1.0), (59, 1.0), (57, 1.0)],\n",
      " [(55, 1.0), (-1, 1.0), (57, 1.0), (60, 1.0)],\n",
      " [(60, 4.0)],\n",
      " [(60, 1.0), (59, 1.0), (58, 1.0), (57, 1.0)],\n",
      " [(60, 3.0), (65, 1.0)],\n",
      " [(60, 2.0), (62, 1.0), (64, 1.0)],\n",
      " [(64, 4.0)],\n",
      " [(57, 1.0), (56, 1.0), (55, 1.0), (54, 1.0)],\n",
      " [(57, 3.0), (64, 1.0)],\n",
      " [(60, 2.0), (64, 1.0), (62, 1.0)],\n",
      " [(62, 4.0)],\n",
      " [(55, 1.0), (57, 1.0), (55, 1.0), (64, 1.0)],\n",
      " [(60, 1.0), (-1, 1.0), (64, 1.0), (62, 1.0)],\n",
      " [(60, 1.0), (-1, 1.0), (64, 1.0), (64, 1.0)],\n",
      " [(60, 4.0)],\n",
      " [(52, 1.0), (53, 1.0), (52, 1.0), (57, 1.0)],\n",
      " [(55, 1.0), (-1, 1.0), (59, 1.0), (57, 1.0)],\n",
      " [(55, 1.0), (-1, 1.0), (64, 1.0), (64, 1.0)],\n",
      " [(60, 3.0), (-1, 1.0)],\n",
      " [(55, 1.0), (57, 1.0), (55, 1.0), (64, 1.0)],\n",
      " [(60, 1.0), (-1, 1.0), (64, 1.0), (62, 1.0)],\n",
      " [(60, 1.0), (-1, 1.0), (64, 1.0), (64, 1.0)],\n",
      " [(60, 4.0)],\n",
      " [(52, 1.0), (53, 1.0), (52, 1.0), (57, 1.0)],\n",
      " [(55, 1.0), (-1, 1.0), (59, 1.0), (57, 1.0)],\n",
      " [(55, 1.0), (-1, 1.0), (59, 1.0), (59, 1.0)],\n",
      " [(55, 4.0)],\n",
      " [(55, 1.0), (57, 1.0), (55, 1.0), (64, 1.0)],\n",
      " [(60, 1.0), (-1, 1.0), (64, 1.0), (62, 1.0)],\n",
      " [(60, 1.0), (-1, 1.0), (64, 1.0), (64, 1.0)],\n",
      " [(60, 4.0)],\n",
      " [(52, 1.0), (53, 1.0), (52, 1.0), (57, 1.0)],\n",
      " [(55, 1.0), (-1, 1.0), (59, 1.0), (57, 1.0)],\n",
      " [(55, 1.0), (-1, 1.0), (57, 1.0), (60, 1.0)],\n",
      " [(60, 4.0)],\n",
      " [(60, 1.0), (59, 1.0), (58, 1.0), (57, 1.0)],\n",
      " [(60, 3.0), (65, 1.0)],\n",
      " [(60, 2.0), (62, 1.0), (64, 1.0)],\n",
      " [(64, 4.0)],\n",
      " [(57, 1.0), (56, 1.0), (55, 1.0), (54, 1.0)],\n",
      " [(57, 3.0), (64, 1.0)],\n",
      " [(60, 2.0), (64, 1.0), (62, 1.0)],\n",
      " [(62, 4.0)],\n",
      " [(55, 1.0), (57, 1.0), (55, 1.0), (64, 1.0)],\n",
      " [(60, 1.0), (-1, 1.0), (64, 1.0), (62, 1.0)],\n",
      " [(60, 1.0), (-1, 1.0), (64, 1.0), (64, 1.0)],\n",
      " [(60, 4.0)],\n",
      " [(52, 1.0), (53, 1.0), (52, 1.0), (57, 1.0)],\n",
      " [(55, 1.0), (-1, 1.0), (59, 1.0), (57, 1.0)],\n",
      " [(55, 1.0), (-1, 1.0), (64, 1.0), (64, 1.0)],\n",
      " [(60, 4.0), (-1, 0.0)]]\n"
     ]
    }
   ],
   "source": [
    "test = parse(\"data/a_cup_of_coffee_a_sandwich_and_you.midi\")\n",
    "t = gen_notes(test)\n",
    "\n",
    "pprint(t)"
   ]
  },
  {
   "cell_type": "code",
   "execution_count": 35,
   "id": "252d5c22",
   "metadata": {},
   "outputs": [
    {
     "data": {
      "application/vnd.jupyter.widget-view+json": {
       "model_id": "392d877df7bc4da3b10d94206693a070",
       "version_major": 2,
       "version_minor": 0
      },
      "text/plain": [
       "  0%|          | 0/153 [00:00<?, ?file/s]"
      ]
     },
     "metadata": {},
     "output_type": "display_data"
    }
   ],
   "source": [
    "songs = [gen_notes(parse(fp)) for fp in tqdm(files, unit=\"file\")]"
   ]
  },
  {
   "cell_type": "code",
   "execution_count": null,
   "id": "e3e41043",
   "metadata": {},
   "outputs": [
    {
     "name": "stdout",
     "output_type": "stream",
     "text": [
      "[(-1, 0.0), (86, 1.0), (83, 3.0)]\n",
      "[(83, 1.75), (71, Fraction(2, 3)), (74, Fraction(2, 3)), (81, Fraction(2, 3)), (78, Fraction(1, 3))]\n",
      "[(78, Fraction(1, 3)), (74, Fraction(2, 3)), (76, 3.0)]\n",
      "[(76, 2.0), (72, 1.0), (69, Fraction(2, 3)), (65, Fraction(1, 3))]\n",
      "[(65, Fraction(1, 3)), (62, Fraction(2, 3)), (67, 3.0)]\n",
      "[(67, 1.0), (65, 3.0)]\n",
      "[(65, 1.0), (65, 0.5), (64, 1.0), (67, 1.5)]\n",
      "[(67, 3.75), (65, Fraction(1, 3))]\n",
      "[(65, Fraction(1, 3)), (64, Fraction(2, 3)), (74, 3.0)]\n",
      "[(74, 4.0)]\n",
      "[(72, 1.0), (71, 0.5), (74, 1.5)]\n",
      "[(74, 3.75), (72, Fraction(1, 3))]\n",
      "[(72, Fraction(1, 3)), (71, Fraction(2, 3)), (70, 1.0), (68, 0.5), (72, 1.5)]\n",
      "[(72, 2.0), (-1, 0.5), (67, 0.5), (74, 0.5), (75, 0.5)]\n",
      "[(68, 0.5), (74, 0.5), (72, 3.0)]\n",
      "[(72, 4.0)]\n",
      "[(72, 1.0), (-1, 3.0)]\n",
      "[(-1, 4.0)]\n",
      "[(86, 1.0), (83, 3.0)]\n",
      "[(83, 1.75), (71, Fraction(2, 3)), (74, Fraction(2, 3)), (81, Fraction(2, 3)), (78, Fraction(1, 3))]\n",
      "[(78, Fraction(1, 3)), (74, Fraction(2, 3)), (76, 3.0)]\n",
      "[(76, 2.0), (72, 1.0), (69, Fraction(2, 3)), (65, Fraction(1, 3))]\n",
      "[(65, Fraction(1, 3)), (62, Fraction(2, 3)), (67, 3.0)]\n",
      "[(67, 1.0), (65, 3.0)]\n",
      "[(65, 1.0), (65, 0.5), (64, 1.0), (67, 1.5)]\n",
      "[(67, 3.75), (65, Fraction(1, 3))]\n",
      "[(65, Fraction(1, 3)), (64, Fraction(2, 3)), (74, 3.0)]\n",
      "[(74, 4.0)]\n",
      "[(72, 1.0), (71, 0.5), (74, 1.5)]\n",
      "[(74, 3.75), (72, Fraction(1, 3))]\n",
      "[(72, Fraction(1, 3)), (71, Fraction(2, 3)), (70, 1.0), (68, 0.5), (72, 1.5)]\n",
      "[(72, 2.0), (-1, 0.5), (67, 0.5), (74, 0.5), (75, 0.5)]\n",
      "[(68, 0.5), (74, 0.5), (72, 3.0)]\n",
      "[(72, 4.0)]\n",
      "[(72, 1.0), (-1, 3.0)]\n",
      "[(-1, 4.0)]\n",
      "[(86, 1.0), (-1, 1.5), (67, 0.5), (74, 0.5), (75, 0.5)]\n",
      "[(68, 0.5), (74, 0.5), (72, 3.0)]\n",
      "[(72, 4.0)]\n",
      "[(72, 1.0), (-1, 3.0)]\n",
      "[(-1, 2.5), (67, 0.5), (74, 0.5), (75, 0.5)]\n",
      "[(68, 0.5), (74, 0.5), (72, 3.0)]\n",
      "[(72, 4.0)]\n",
      "[(72, 1.0), (-1, 3.0), (-1, 0.0)]\n"
     ]
    }
   ],
   "source": [
    "for s in songs[0]:\n",
    "\tprint(s)"
   ]
  }
 ],
 "metadata": {
  "kernelspec": {
   "display_name": ".venv",
   "language": "python",
   "name": "python3"
  },
  "language_info": {
   "codemirror_mode": {
    "name": "ipython",
    "version": 3
   },
   "file_extension": ".py",
   "mimetype": "text/x-python",
   "name": "python",
   "nbconvert_exporter": "python",
   "pygments_lexer": "ipython3",
   "version": "3.13.1"
  }
 },
 "nbformat": 4,
 "nbformat_minor": 5
}
